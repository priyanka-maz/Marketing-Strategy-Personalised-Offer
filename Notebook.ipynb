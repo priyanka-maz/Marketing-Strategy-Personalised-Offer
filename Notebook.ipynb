{
  "cells": [
    {
      "cell_type": "code",
      "execution_count": 53,
      "id": "f1574a04",
      "metadata": {
        "_cell_guid": "b1076dfc-b9ad-4769-8c92-a6c4dae69d19",
        "_uuid": "8f2839f25d086af736a60e9eeb907d3b93b6e0e5",
        "execution": {
          "iopub.execute_input": "2022-12-17T13:50:27.783993Z",
          "iopub.status.busy": "2022-12-17T13:50:27.782984Z",
          "iopub.status.idle": "2022-12-17T13:50:28.971792Z",
          "shell.execute_reply": "2022-12-17T13:50:28.970159Z"
        },
        "papermill": {
          "duration": 1.217316,
          "end_time": "2022-12-17T13:50:28.975323",
          "exception": false,
          "start_time": "2022-12-17T13:50:27.758007",
          "status": "completed"
        },
        "tags": [],
        "id": "f1574a04",
        "colab": {
          "base_uri": "https://localhost:8080/"
        },
        "outputId": "f7510dd5-d390-4089-83ae-155a38dce180"
      },
      "outputs": [
        {
          "output_type": "stream",
          "name": "stdout",
          "text": [
            "Datasets/train_data.csv\n",
            "Datasets/sample.csv\n",
            "Datasets/test_data.csv\n"
          ]
        }
      ],
      "source": [
        "import numpy as np # linear algebra\n",
        "import pandas as pd # data processing, CSV file I/O (e.g. pd.read_csv)\n",
        "\n",
        "import matplotlib.pyplot as plt\n",
        "import seaborn as sns\n",
        "\n",
        "import warnings\n",
        "# Global rng instance\n",
        "rng = np.random.RandomState(42)\n",
        "\n",
        "# To show all output columns\n",
        "pd.options.display.max_columns = None \n",
        "\n",
        "warnings.filterwarnings(\"ignore\", category=UserWarning)\n",
        "\n",
        "import os\n",
        "for dirname, _, filenames in os.walk('Datasets'):\n",
        "    for filename in filenames:\n",
        "        print(os.path.join(dirname, filename))"
      ]
    },
    {
      "cell_type": "markdown",
      "id": "8fa1ab9e",
      "metadata": {
        "papermill": {
          "duration": 0.017776,
          "end_time": "2022-12-17T13:50:29.012063",
          "exception": false,
          "start_time": "2022-12-17T13:50:28.994287",
          "status": "completed"
        },
        "tags": [],
        "id": "8fa1ab9e"
      },
      "source": [
        "# Load Data"
      ]
    },
    {
      "cell_type": "markdown",
      "id": "89028407",
      "metadata": {
        "papermill": {
          "duration": 0.017907,
          "end_time": "2022-12-17T13:50:29.048427",
          "exception": false,
          "start_time": "2022-12-17T13:50:29.030520",
          "status": "completed"
        },
        "tags": [],
        "id": "89028407"
      },
      "source": [
        "## Load raw data from CSV files"
      ]
    },
    {
      "cell_type": "code",
      "execution_count": 54,
      "id": "a85fc80a",
      "metadata": {
        "execution": {
          "iopub.execute_input": "2022-12-17T13:50:29.087159Z",
          "iopub.status.busy": "2022-12-17T13:50:29.086184Z",
          "iopub.status.idle": "2022-12-17T13:50:29.248227Z",
          "shell.execute_reply": "2022-12-17T13:50:29.246563Z"
        },
        "papermill": {
          "duration": 0.185117,
          "end_time": "2022-12-17T13:50:29.251148",
          "exception": false,
          "start_time": "2022-12-17T13:50:29.066031",
          "status": "completed"
        },
        "tags": [],
        "id": "a85fc80a"
      },
      "outputs": [],
      "source": [
        "data_train_raw = pd.read_csv('Datasets/train_data.csv')\n",
        "data_test_raw  = pd.read_csv('Datasets/test_data.csv')\n",
        "\n",
        "datasets = [data_train_raw.copy(), data_test_raw.copy()] # given pandas df's\n",
        "\n",
        "target_id      = 'id'\n",
        "target_feature = 'Offer Accepted'"
      ]
    },
    {
      "cell_type": "markdown",
      "id": "88628287",
      "metadata": {
        "papermill": {
          "duration": 0.018022,
          "end_time": "2022-12-17T13:50:29.290843",
          "exception": false,
          "start_time": "2022-12-17T13:50:29.272821",
          "status": "completed"
        },
        "tags": [],
        "id": "88628287"
      },
      "source": [
        "## Show some basic info about given dataset"
      ]
    },
    {
      "cell_type": "code",
      "execution_count": 55,
      "id": "d9c2aefb",
      "metadata": {
        "execution": {
          "iopub.execute_input": "2022-12-17T13:50:29.329044Z",
          "iopub.status.busy": "2022-12-17T13:50:29.328304Z",
          "iopub.status.idle": "2022-12-17T13:50:29.370097Z",
          "shell.execute_reply": "2022-12-17T13:50:29.367816Z"
        },
        "papermill": {
          "duration": 0.064272,
          "end_time": "2022-12-17T13:50:29.372719",
          "exception": false,
          "start_time": "2022-12-17T13:50:29.308447",
          "status": "completed"
        },
        "tags": [],
        "colab": {
          "base_uri": "https://localhost:8080/"
        },
        "id": "d9c2aefb",
        "outputId": "31dff6ba-dfcc-4a93-9f31-ea2e3a941de9"
      },
      "outputs": [
        {
          "output_type": "stream",
          "name": "stdout",
          "text": [
            "<class 'pandas.core.frame.DataFrame'>\n",
            "RangeIndex: 12379 entries, 0 to 12378\n",
            "Data columns (total 31 columns):\n",
            " #   Column                                Non-Null Count  Dtype \n",
            "---  ------                                --------------  ----- \n",
            " 0   offer expiration                      12379 non-null  object\n",
            " 1   income_range                          12379 non-null  object\n",
            " 2   no_visited_Cold drinks                12181 non-null  object\n",
            " 3   travelled_more_than_15mins_for_offer  12379 non-null  int64 \n",
            " 4   Restaur_spend_less_than20             12258 non-null  object\n",
            " 5   Marital Status                        12379 non-null  object\n",
            " 6   restaurant type                       12379 non-null  object\n",
            " 7   age                                   12379 non-null  object\n",
            " 8   Prefer western over chinese           12379 non-null  int64 \n",
            " 9   travelled_more_than_25mins_for_offer  12379 non-null  int64 \n",
            " 10  travelled_more_than_5mins_for_offer   12379 non-null  int64 \n",
            " 11  no_visited_bars                       12286 non-null  object\n",
            " 12  gender                                12379 non-null  object\n",
            " 13  car                                   111 non-null    object\n",
            " 14  restuarant_same_direction_house       12379 non-null  int64 \n",
            " 15  Cooks regularly                       12379 non-null  int64 \n",
            " 16  Customer type                         12379 non-null  object\n",
            " 17  Qualification                         12379 non-null  object\n",
            " 18  is foodie                             12379 non-null  int64 \n",
            " 19  no_Take-aways                         12235 non-null  object\n",
            " 20  Job/Job Industry                      12379 non-null  object\n",
            " 21  restuarant_opposite_direction_house   12379 non-null  int64 \n",
            " 22  has Children                          12379 non-null  int64 \n",
            " 23  visit restaurant with rating (avg)    12379 non-null  int64 \n",
            " 24  temperature                           12379 non-null  int64 \n",
            " 25  Restaur_spend_greater_than20          12219 non-null  object\n",
            " 26  Travel Time                           12379 non-null  int64 \n",
            " 27  Climate                               12379 non-null  object\n",
            " 28  drop location                         12379 non-null  object\n",
            " 29  Prefer home food                      12379 non-null  int64 \n",
            " 30  Offer Accepted                        12379 non-null  object\n",
            "dtypes: int64(13), object(18)\n",
            "memory usage: 2.9+ MB\n"
          ]
        }
      ],
      "source": [
        "data_train_raw.info()"
      ]
    },
    {
      "cell_type": "code",
      "execution_count": 56,
      "id": "0f53de63",
      "metadata": {
        "execution": {
          "iopub.execute_input": "2022-12-17T13:50:29.410716Z",
          "iopub.status.busy": "2022-12-17T13:50:29.410271Z",
          "iopub.status.idle": "2022-12-17T13:50:30.586779Z",
          "shell.execute_reply": "2022-12-17T13:50:30.585491Z"
        },
        "papermill": {
          "duration": 1.199623,
          "end_time": "2022-12-17T13:50:30.590205",
          "exception": false,
          "start_time": "2022-12-17T13:50:29.390582",
          "status": "completed"
        },
        "tags": [],
        "colab": {
          "base_uri": "https://localhost:8080/",
          "height": 1000
        },
        "id": "0f53de63",
        "outputId": "22b6ae86-718c-4059-f796-a761cc25feda"
      },
      "outputs": [
        {
          "output_type": "display_data",
          "data": {
            "text/plain": [
              "<Figure size 1224x1440 with 2 Axes>"
            ],
            "image/png": "[encoded data removed]"
          },
          "metadata": {
            "needs_background": "light"
          }
        }
      ],
      "source": [
        "data_corr = datasets[0].corr()\n",
        "plt.figure(figsize=(17, 20))\n",
        "sns.heatmap(data_corr, annot=True, square=True, cmap=\"inferno\")\n",
        "plt.show()\n",
        "\n",
        "#data_corr['Offer Accepted']*100 "
      ]
    },
    {
      "cell_type": "code",
      "execution_count": 57,
      "id": "5ceab31e",
      "metadata": {
        "execution": {
          "iopub.execute_input": "2022-12-17T13:50:30.633281Z",
          "iopub.status.busy": "2022-12-17T13:50:30.632844Z",
          "iopub.status.idle": "2022-12-17T13:50:33.541909Z",
          "shell.execute_reply": "2022-12-17T13:50:33.540989Z"
        },
        "papermill": {
          "duration": 2.933523,
          "end_time": "2022-12-17T13:50:33.544260",
          "exception": false,
          "start_time": "2022-12-17T13:50:30.610737",
          "status": "completed"
        },
        "tags": [],
        "colab": {
          "base_uri": "https://localhost:8080/",
          "height": 879
        },
        "id": "5ceab31e",
        "outputId": "390012b0-3560-48cc-830c-da77430c6e7c"
      },
      "outputs": [
        {
          "output_type": "display_data",
          "data": {
            "text/plain": [
              "<Figure size 1440x1080 with 16 Axes>"
            ],
            "image/png": "[encoded data removed]"
          },
          "metadata": {
            "needs_background": "light"
          }
        }
      ],
      "source": [
        "datasets[0].hist(bins=50, figsize=(20, 15))\n",
        "plt.show()"
      ]
    },
    {
      "cell_type": "code",
      "execution_count": 58,
      "id": "69f307ef",
      "metadata": {
        "execution": {
          "iopub.execute_input": "2022-12-17T13:50:33.589592Z",
          "iopub.status.busy": "2022-12-17T13:50:33.588868Z",
          "iopub.status.idle": "2022-12-17T13:50:33.627411Z",
          "shell.execute_reply": "2022-12-17T13:50:33.626332Z"
        },
        "papermill": {
          "duration": 0.064217,
          "end_time": "2022-12-17T13:50:33.630032",
          "exception": false,
          "start_time": "2022-12-17T13:50:33.565815",
          "status": "completed"
        },
        "tags": [],
        "colab": {
          "base_uri": "https://localhost:8080/",
          "height": 705
        },
        "id": "69f307ef",
        "outputId": "4fe66520-18cf-41f4-99aa-ac936a5e683d"
      },
      "outputs": [
        {
          "output_type": "execute_result",
          "data": {
            "text/plain": [
              "      offer expiration      income_range no_visited_Cold drinks  \\\n",
              "2442             2days   ₹37500 - ₹49999                  less1   \n",
              "970            10hours   ₹100000 or More                    1~3   \n",
              "5763             2days   ₹75000 - ₹87499                    4~8   \n",
              "6621           10hours   ₹100000 or More                  never   \n",
              "11410          10hours   ₹50000 - ₹62499                  less1   \n",
              "10440          10hours  Less than ₹12500                    1~3   \n",
              "10836          10hours   ₹25000 - ₹37499                  never   \n",
              "8522           10hours   ₹37500 - ₹49999                    NaN   \n",
              "749              2days   ₹100000 or More                  less1   \n",
              "12067          10hours   ₹25000 - ₹37499                  less1   \n",
              "\n",
              "       travelled_more_than_15mins_for_offer Restaur_spend_less_than20  \\\n",
              "2442                                      1                       1~3   \n",
              "970                                       1                     less1   \n",
              "5763                                      0                       1~3   \n",
              "6621                                      0                       gt8   \n",
              "11410                                     1                       1~3   \n",
              "10440                                     1                       1~3   \n",
              "10836                                     0                     less1   \n",
              "8522                                      0                       1~3   \n",
              "749                                       1                       4~8   \n",
              "12067                                     0                     less1   \n",
              "\n",
              "          Marital Status      restaurant type      age  \\\n",
              "2442     Married partner    4 star restaurant       46   \n",
              "970               Single  Restaurant with pub       21   \n",
              "5763     Married partner  Restaurant with pub       41   \n",
              "6621     Married partner          Cold drinks       31   \n",
              "11410    Married partner          Cold drinks   50plus   \n",
              "10440    Married partner          Cold drinks   50plus   \n",
              "10836  Unmarried partner  Restaurant with pub  below21   \n",
              "8522     Married partner          Cold drinks       36   \n",
              "749               Single    2 star restaurant       36   \n",
              "12067    Married partner          Cold drinks       46   \n",
              "\n",
              "       Prefer western over chinese  travelled_more_than_25mins_for_offer  \\\n",
              "2442                             0                                     0   \n",
              "970                              1                                     0   \n",
              "5763                             0                                     0   \n",
              "6621                             0                                     0   \n",
              "11410                            1                                     0   \n",
              "10440                            0                                     0   \n",
              "10836                            1                                     0   \n",
              "8522                             0                                     0   \n",
              "749                              1                                     0   \n",
              "12067                            1                                     0   \n",
              "\n",
              "       travelled_more_than_5mins_for_offer no_visited_bars  gender  car  \\\n",
              "2442                                     1           less1    Male  NaN   \n",
              "970                                      1           less1    Male  NaN   \n",
              "5763                                     1           less1    Male  NaN   \n",
              "6621                                     1           less1    Male  NaN   \n",
              "11410                                    1           never    Male  NaN   \n",
              "10440                                    1           less1    Male  NaN   \n",
              "10836                                    1           never  Female  NaN   \n",
              "8522                                     1           less1  Female  NaN   \n",
              "749                                      1             NaN    Male  NaN   \n",
              "12067                                    1           less1  Female  NaN   \n",
              "\n",
              "       restuarant_same_direction_house  Cooks regularly    Customer type  \\\n",
              "2442                                 1                0      With Family   \n",
              "970                                  0                0       Individual   \n",
              "5763                                 0                1      With Family   \n",
              "6621                                 1                0       Individual   \n",
              "11410                                0                0       Individual   \n",
              "10440                                1                0       Individual   \n",
              "10836                                1                1      With Family   \n",
              "8522                                 1                1        With Kids   \n",
              "749                                  0                0       Individual   \n",
              "12067                                0                0  With Colleagues   \n",
              "\n",
              "                                Qualification  is foodie no_Take-aways  \\\n",
              "2442                         Bachelors degree          0           1~3   \n",
              "970                  Some college - no degree          0           1~3   \n",
              "5763   Graduate degree (Masters or Doctorate)          1           gt8   \n",
              "6621                         Bachelors degree          0           4~8   \n",
              "11410                        Bachelors degree          0         less1   \n",
              "10440                        Bachelors degree          1           4~8   \n",
              "10836                Some college - no degree          1           1~3   \n",
              "8522                         Bachelors degree          1           1~3   \n",
              "749                          Bachelors degree          1           gt8   \n",
              "12067                Some college - no degree          0           1~3   \n",
              "\n",
              "                           Job/Job Industry  \\\n",
              "2442   Healthcare Practitioners & Technical   \n",
              "970                                 Student   \n",
              "5763                Computer & Mathematical   \n",
              "6621                   Business & Financial   \n",
              "11410               Personal Care & Service   \n",
              "10440                               Student   \n",
              "10836                               Student   \n",
              "8522             Education&Training&Library   \n",
              "749                              Unemployed   \n",
              "12067                       Sales & Related   \n",
              "\n",
              "       restuarant_opposite_direction_house  has Children  \\\n",
              "2442                                     0             1   \n",
              "970                                      1             0   \n",
              "5763                                     1             1   \n",
              "6621                                     0             1   \n",
              "11410                                    1             0   \n",
              "10440                                    0             0   \n",
              "10836                                    0             0   \n",
              "8522                                     0             1   \n",
              "749                                      1             0   \n",
              "12067                                    1             1   \n",
              "\n",
              "       visit restaurant with rating (avg)  temperature  \\\n",
              "2442                                    1           89   \n",
              "970                                     0           89   \n",
              "5763                                    3           67   \n",
              "6621                                    1           89   \n",
              "11410                                   1           89   \n",
              "10440                                   0           89   \n",
              "10836                                   1           89   \n",
              "8522                                    4           67   \n",
              "749                                     0           67   \n",
              "12067                                   3           89   \n",
              "\n",
              "      Restaur_spend_greater_than20  Travel Time Climate drop location  \\\n",
              "2442                         never            7  Winter    Location C   \n",
              "970                          less1           14  Winter    Location B   \n",
              "5763                         less1           18  Winter    Location A   \n",
              "6621                         less1            7  Summer    Location A   \n",
              "11410                        less1           18  Spring    Location C   \n",
              "10440                        less1           22  Winter    Location B   \n",
              "10836                        never            7  Summer    Location C   \n",
              "8522                           1~3            7  Winter    Location B   \n",
              "749                            1~3           10  Summer    Location A   \n",
              "12067                        never           10  Summer    Location A   \n",
              "\n",
              "       Prefer home food Offer Accepted  \n",
              "2442                  0            Yes  \n",
              "970                   1            Yes  \n",
              "5763                  0            Yes  \n",
              "6621                  1             No  \n",
              "11410                 1             No  \n",
              "10440                 0             No  \n",
              "10836                 0             No  \n",
              "8522                  0             No  \n",
              "749                   0            Yes  \n",
              "12067                 1             No  "
            ],
            "text/html": [
              "\n",
              "  <div id=\"df-dc5dd6ba-b1f4-47a0-bad9-2cdd81a17c74\">\n",
              "    <div class=\"colab-df-container\">\n",
              "      <div>\n",
              "<style scoped>\n",
              "    .dataframe tbody tr th:only-of-type {\n",
              "        vertical-align: middle;\n",
              "    }\n",
              "\n",
              "    .dataframe tbody tr th {\n",
              "        vertical-align: top;\n",
              "    }\n",
              "\n",
              "    .dataframe thead th {\n",
              "        text-align: right;\n",
              "    }\n",
              "</style>\n",
              "<table border=\"1\" class=\"dataframe\">\n",
              "  <thead>\n",
              "    <tr style=\"text-align: right;\">\n",
              "      <th></th>\n",
              "      <th>offer expiration</th>\n",
              "      <th>income_range</th>\n",
              "      <th>no_visited_Cold drinks</th>\n",
              "      <th>travelled_more_than_15mins_for_offer</th>\n",
              "      <th>Restaur_spend_less_than20</th>\n",
              "      <th>Marital Status</th>\n",
              "      <th>restaurant type</th>\n",
              "      <th>age</th>\n",
              "      <th>Prefer western over chinese</th>\n",
              "      <th>travelled_more_than_25mins_for_offer</th>\n",
              "      <th>travelled_more_than_5mins_for_offer</th>\n",
              "      <th>no_visited_bars</th>\n",
              "      <th>gender</th>\n",
              "      <th>car</th>\n",
              "      <th>restuarant_same_direction_house</th>\n",
              "      <th>Cooks regularly</th>\n",
              "      <th>Customer type</th>\n",
              "      <th>Qualification</th>\n",
              "      <th>is foodie</th>\n",
              "      <th>no_Take-aways</th>\n",
              "      <th>Job/Job Industry</th>\n",
              "      <th>restuarant_opposite_direction_house</th>\n",
              "      <th>has Children</th>\n",
              "      <th>visit restaurant with rating (avg)</th>\n",
              "      <th>temperature</th>\n",
              "      <th>Restaur_spend_greater_than20</th>\n",
              "      <th>Travel Time</th>\n",
              "      <th>Climate</th>\n",
              "      <th>drop location</th>\n",
              "      <th>Prefer home food</th>\n",
              "      <th>Offer Accepted</th>\n",
              "    </tr>\n",
              "  </thead>\n",
              "  <tbody>\n",
              "    <tr>\n",
              "      <th>2442</th>\n",
              "      <td>2days</td>\n",
              "      <td>₹37500 - ₹49999</td>\n",
              "      <td>less1</td>\n",
              "      <td>1</td>\n",
              "      <td>1~3</td>\n",
              "      <td>Married partner</td>\n",
              "      <td>4 star restaurant</td>\n",
              "      <td>46</td>\n",
              "      <td>0</td>\n",
              "      <td>0</td>\n",
              "      <td>1</td>\n",
              "      <td>less1</td>\n",
              "      <td>Male</td>\n",
              "      <td>NaN</td>\n",
              "      <td>1</td>\n",
              "      <td>0</td>\n",
              "      <td>With Family</td>\n",
              "      <td>Bachelors degree</td>\n",
              "      <td>0</td>\n",
              "      <td>1~3</td>\n",
              "      <td>Healthcare Practitioners &amp; Technical</td>\n",
              "      <td>0</td>\n",
              "      <td>1</td>\n",
              "      <td>1</td>\n",
              "      <td>89</td>\n",
              "      <td>never</td>\n",
              "      <td>7</td>\n",
              "      <td>Winter</td>\n",
              "      <td>Location C</td>\n",
              "      <td>0</td>\n",
              "      <td>Yes</td>\n",
              "    </tr>\n",
              "    <tr>\n",
              "      <th>970</th>\n",
              "      <td>10hours</td>\n",
              "      <td>₹100000 or More</td>\n",
              "      <td>1~3</td>\n",
              "      <td>1</td>\n",
              "      <td>less1</td>\n",
              "      <td>Single</td>\n",
              "      <td>Restaurant with pub</td>\n",
              "      <td>21</td>\n",
              "      <td>1</td>\n",
              "      <td>0</td>\n",
              "      <td>1</td>\n",
              "      <td>less1</td>\n",
              "      <td>Male</td>\n",
              "      <td>NaN</td>\n",
              "      <td>0</td>\n",
              "      <td>0</td>\n",
              "      <td>Individual</td>\n",
              "      <td>Some college - no degree</td>\n",
              "      <td>0</td>\n",
              "      <td>1~3</td>\n",
              "      <td>Student</td>\n",
              "      <td>1</td>\n",
              "      <td>0</td>\n",
              "      <td>0</td>\n",
              "      <td>89</td>\n",
              "      <td>less1</td>\n",
              "      <td>14</td>\n",
              "      <td>Winter</td>\n",
              "      <td>Location B</td>\n",
              "      <td>1</td>\n",
              "      <td>Yes</td>\n",
              "    </tr>\n",
              "    <tr>\n",
              "      <th>5763</th>\n",
              "      <td>2days</td>\n",
              "      <td>₹75000 - ₹87499</td>\n",
              "      <td>4~8</td>\n",
              "      <td>0</td>\n",
              "      <td>1~3</td>\n",
              "      <td>Married partner</td>\n",
              "      <td>Restaurant with pub</td>\n",
              "      <td>41</td>\n",
              "      <td>0</td>\n",
              "      <td>0</td>\n",
              "      <td>1</td>\n",
              "      <td>less1</td>\n",
              "      <td>Male</td>\n",
              "      <td>NaN</td>\n",
              "      <td>0</td>\n",
              "      <td>1</td>\n",
              "      <td>With Family</td>\n",
              "      <td>Graduate degree (Masters or Doctorate)</td>\n",
              "      <td>1</td>\n",
              "      <td>gt8</td>\n",
              "      <td>Computer &amp; Mathematical</td>\n",
              "      <td>1</td>\n",
              "      <td>1</td>\n",
              "      <td>3</td>\n",
              "      <td>67</td>\n",
              "      <td>less1</td>\n",
              "      <td>18</td>\n",
              "      <td>Winter</td>\n",
              "      <td>Location A</td>\n",
              "      <td>0</td>\n",
              "      <td>Yes</td>\n",
              "    </tr>\n",
              "    <tr>\n",
              "      <th>6621</th>\n",
              "      <td>10hours</td>\n",
              "      <td>₹100000 or More</td>\n",
              "      <td>never</td>\n",
              "      <td>0</td>\n",
              "      <td>gt8</td>\n",
              "      <td>Married partner</td>\n",
              "      <td>Cold drinks</td>\n",
              "      <td>31</td>\n",
              "      <td>0</td>\n",
              "      <td>0</td>\n",
              "      <td>1</td>\n",
              "      <td>less1</td>\n",
              "      <td>Male</td>\n",
              "      <td>NaN</td>\n",
              "      <td>1</td>\n",
              "      <td>0</td>\n",
              "      <td>Individual</td>\n",
              "      <td>Bachelors degree</td>\n",
              "      <td>0</td>\n",
              "      <td>4~8</td>\n",
              "      <td>Business &amp; Financial</td>\n",
              "      <td>0</td>\n",
              "      <td>1</td>\n",
              "      <td>1</td>\n",
              "      <td>89</td>\n",
              "      <td>less1</td>\n",
              "      <td>7</td>\n",
              "      <td>Summer</td>\n",
              "      <td>Location A</td>\n",
              "      <td>1</td>\n",
              "      <td>No</td>\n",
              "    </tr>\n",
              "    <tr>\n",
              "      <th>11410</th>\n",
              "      <td>10hours</td>\n",
              "      <td>₹50000 - ₹62499</td>\n",
              "      <td>less1</td>\n",
              "      <td>1</td>\n",
              "      <td>1~3</td>\n",
              "      <td>Married partner</td>\n",
              "      <td>Cold drinks</td>\n",
              "      <td>50plus</td>\n",
              "      <td>1</td>\n",
              "      <td>0</td>\n",
              "      <td>1</td>\n",
              "      <td>never</td>\n",
              "      <td>Male</td>\n",
              "      <td>NaN</td>\n",
              "      <td>0</td>\n",
              "      <td>0</td>\n",
              "      <td>Individual</td>\n",
              "      <td>Bachelors degree</td>\n",
              "      <td>0</td>\n",
              "      <td>less1</td>\n",
              "      <td>Personal Care &amp; Service</td>\n",
              "      <td>1</td>\n",
              "      <td>0</td>\n",
              "      <td>1</td>\n",
              "      <td>89</td>\n",
              "      <td>less1</td>\n",
              "      <td>18</td>\n",
              "      <td>Spring</td>\n",
              "      <td>Location C</td>\n",
              "      <td>1</td>\n",
              "      <td>No</td>\n",
              "    </tr>\n",
              "    <tr>\n",
              "      <th>10440</th>\n",
              "      <td>10hours</td>\n",
              "      <td>Less than ₹12500</td>\n",
              "      <td>1~3</td>\n",
              "      <td>1</td>\n",
              "      <td>1~3</td>\n",
              "      <td>Married partner</td>\n",
              "      <td>Cold drinks</td>\n",
              "      <td>50plus</td>\n",
              "      <td>0</td>\n",
              "      <td>0</td>\n",
              "      <td>1</td>\n",
              "      <td>less1</td>\n",
              "      <td>Male</td>\n",
              "      <td>NaN</td>\n",
              "      <td>1</td>\n",
              "      <td>0</td>\n",
              "      <td>Individual</td>\n",
              "      <td>Bachelors degree</td>\n",
              "      <td>1</td>\n",
              "      <td>4~8</td>\n",
              "      <td>Student</td>\n",
              "      <td>0</td>\n",
              "      <td>0</td>\n",
              "      <td>0</td>\n",
              "      <td>89</td>\n",
              "      <td>less1</td>\n",
              "      <td>22</td>\n",
              "      <td>Winter</td>\n",
              "      <td>Location B</td>\n",
              "      <td>0</td>\n",
              "      <td>No</td>\n",
              "    </tr>\n",
              "    <tr>\n",
              "      <th>10836</th>\n",
              "      <td>10hours</td>\n",
              "      <td>₹25000 - ₹37499</td>\n",
              "      <td>never</td>\n",
              "      <td>0</td>\n",
              "      <td>less1</td>\n",
              "      <td>Unmarried partner</td>\n",
              "      <td>Restaurant with pub</td>\n",
              "      <td>below21</td>\n",
              "      <td>1</td>\n",
              "      <td>0</td>\n",
              "      <td>1</td>\n",
              "      <td>never</td>\n",
              "      <td>Female</td>\n",
              "      <td>NaN</td>\n",
              "      <td>1</td>\n",
              "      <td>1</td>\n",
              "      <td>With Family</td>\n",
              "      <td>Some college - no degree</td>\n",
              "      <td>1</td>\n",
              "      <td>1~3</td>\n",
              "      <td>Student</td>\n",
              "      <td>0</td>\n",
              "      <td>0</td>\n",
              "      <td>1</td>\n",
              "      <td>89</td>\n",
              "      <td>never</td>\n",
              "      <td>7</td>\n",
              "      <td>Summer</td>\n",
              "      <td>Location C</td>\n",
              "      <td>0</td>\n",
              "      <td>No</td>\n",
              "    </tr>\n",
              "    <tr>\n",
              "      <th>8522</th>\n",
              "      <td>10hours</td>\n",
              "      <td>₹37500 - ₹49999</td>\n",
              "      <td>NaN</td>\n",
              "      <td>0</td>\n",
              "      <td>1~3</td>\n",
              "      <td>Married partner</td>\n",
              "      <td>Cold drinks</td>\n",
              "      <td>36</td>\n",
              "      <td>0</td>\n",
              "      <td>0</td>\n",
              "      <td>1</td>\n",
              "      <td>less1</td>\n",
              "      <td>Female</td>\n",
              "      <td>NaN</td>\n",
              "      <td>1</td>\n",
              "      <td>1</td>\n",
              "      <td>With Kids</td>\n",
              "      <td>Bachelors degree</td>\n",
              "      <td>1</td>\n",
              "      <td>1~3</td>\n",
              "      <td>Education&amp;Training&amp;Library</td>\n",
              "      <td>0</td>\n",
              "      <td>1</td>\n",
              "      <td>4</td>\n",
              "      <td>67</td>\n",
              "      <td>1~3</td>\n",
              "      <td>7</td>\n",
              "      <td>Winter</td>\n",
              "      <td>Location B</td>\n",
              "      <td>0</td>\n",
              "      <td>No</td>\n",
              "    </tr>\n",
              "    <tr>\n",
              "      <th>749</th>\n",
              "      <td>2days</td>\n",
              "      <td>₹100000 or More</td>\n",
              "      <td>less1</td>\n",
              "      <td>1</td>\n",
              "      <td>4~8</td>\n",
              "      <td>Single</td>\n",
              "      <td>2 star restaurant</td>\n",
              "      <td>36</td>\n",
              "      <td>1</td>\n",
              "      <td>0</td>\n",
              "      <td>1</td>\n",
              "      <td>NaN</td>\n",
              "      <td>Male</td>\n",
              "      <td>NaN</td>\n",
              "      <td>0</td>\n",
              "      <td>0</td>\n",
              "      <td>Individual</td>\n",
              "      <td>Bachelors degree</td>\n",
              "      <td>1</td>\n",
              "      <td>gt8</td>\n",
              "      <td>Unemployed</td>\n",
              "      <td>1</td>\n",
              "      <td>0</td>\n",
              "      <td>0</td>\n",
              "      <td>67</td>\n",
              "      <td>1~3</td>\n",
              "      <td>10</td>\n",
              "      <td>Summer</td>\n",
              "      <td>Location A</td>\n",
              "      <td>0</td>\n",
              "      <td>Yes</td>\n",
              "    </tr>\n",
              "    <tr>\n",
              "      <th>12067</th>\n",
              "      <td>10hours</td>\n",
              "      <td>₹25000 - ₹37499</td>\n",
              "      <td>less1</td>\n",
              "      <td>0</td>\n",
              "      <td>less1</td>\n",
              "      <td>Married partner</td>\n",
              "      <td>Cold drinks</td>\n",
              "      <td>46</td>\n",
              "      <td>1</td>\n",
              "      <td>0</td>\n",
              "      <td>1</td>\n",
              "      <td>less1</td>\n",
              "      <td>Female</td>\n",
              "      <td>NaN</td>\n",
              "      <td>0</td>\n",
              "      <td>0</td>\n",
              "      <td>With Colleagues</td>\n",
              "      <td>Some college - no degree</td>\n",
              "      <td>0</td>\n",
              "      <td>1~3</td>\n",
              "      <td>Sales &amp; Related</td>\n",
              "      <td>1</td>\n",
              "      <td>1</td>\n",
              "      <td>3</td>\n",
              "      <td>89</td>\n",
              "      <td>never</td>\n",
              "      <td>10</td>\n",
              "      <td>Summer</td>\n",
              "      <td>Location A</td>\n",
              "      <td>1</td>\n",
              "      <td>No</td>\n",
              "    </tr>\n",
              "  </tbody>\n",
              "</table>\n",
              "</div>\n",
              "      <button class=\"colab-df-convert\" onclick=\"convertToInteractive('df-dc5dd6ba-b1f4-47a0-bad9-2cdd81a17c74')\"\n",
              "              title=\"Convert this dataframe to an interactive table.\"\n",
              "              style=\"display:none;\">\n",
              "        \n",
              "  <svg xmlns=\"http://www.w3.org/2000/svg\" height=\"24px\"viewBox=\"0 0 24 24\"\n",
              "       width=\"24px\">\n",
              "    <path d=\"M0 0h24v24H0V0z\" fill=\"none\"/>\n",
              "    <path d=\"M18.56 5.44l.94 2.06.94-2.06 2.06-.94-2.06-.94-.94-2.06-.94 2.06-2.06.94zm-11 1L8.5 8.5l.94-2.06 2.06-.94-2.06-.94L8.5 2.5l-.94 2.06-2.06.94zm10 10l.94 2.06.94-2.06 2.06-.94-2.06-.94-.94-2.06-.94 2.06-2.06.94z\"/><path d=\"M17.41 7.96l-1.37-1.37c-.4-.4-.92-.59-1.43-.59-.52 0-1.04.2-1.43.59L10.3 9.45l-7.72 7.72c-.78.78-.78 2.05 0 2.83L4 21.41c.39.39.9.59 1.41.59.51 0 1.02-.2 1.41-.59l7.78-7.78 2.81-2.81c.8-.78.8-2.07 0-2.86zM5.41 20L4 18.59l7.72-7.72 1.47 1.35L5.41 20z\"/>\n",
              "  </svg>\n",
              "      </button>\n",
              "      \n",
              "  <style>\n",
              "    .colab-df-container {\n",
              "      display:flex;\n",
              "      flex-wrap:wrap;\n",
              "      gap: 12px;\n",
              "    }\n",
              "\n",
              "    .colab-df-convert {\n",
              "      background-color: #E8F0FE;\n",
              "      border: none;\n",
              "      border-radius: 50%;\n",
              "      cursor: pointer;\n",
              "      display: none;\n",
              "      fill: #1967D2;\n",
              "      height: 32px;\n",
              "      padding: 0 0 0 0;\n",
              "      width: 32px;\n",
              "    }\n",
              "\n",
              "    .colab-df-convert:hover {\n",
              "      background-color: #E2EBFA;\n",
              "      box-shadow: 0px 1px 2px rgba(60, 64, 67, 0.3), 0px 1px 3px 1px rgba(60, 64, 67, 0.15);\n",
              "      fill: #174EA6;\n",
              "    }\n",
              "\n",
              "    [theme=dark] .colab-df-convert {\n",
              "      background-color: #3B4455;\n",
              "      fill: #D2E3FC;\n",
              "    }\n",
              "\n",
              "    [theme=dark] .colab-df-convert:hover {\n",
              "      background-color: #434B5C;\n",
              "      box-shadow: 0px 1px 3px 1px rgba(0, 0, 0, 0.15);\n",
              "      filter: drop-shadow(0px 1px 2px rgba(0, 0, 0, 0.3));\n",
              "      fill: #FFFFFF;\n",
              "    }\n",
              "  </style>\n",
              "\n",
              "      <script>\n",
              "        const buttonEl =\n",
              "          document.querySelector('#df-dc5dd6ba-b1f4-47a0-bad9-2cdd81a17c74 button.colab-df-convert');\n",
              "        buttonEl.style.display =\n",
              "          google.colab.kernel.accessAllowed ? 'block' : 'none';\n",
              "\n",
              "        async function convertToInteractive(key) {\n",
              "          const element = document.querySelector('#df-dc5dd6ba-b1f4-47a0-bad9-2cdd81a17c74');\n",
              "          const dataTable =\n",
              "            await google.colab.kernel.invokeFunction('convertToInteractive',\n",
              "                                                     [key], {});\n",
              "          if (!dataTable) return;\n",
              "\n",
              "          const docLinkHtml = 'Like what you see? Visit the ' +\n",
              "            '<a target=\"_blank\" href=https://colab.research.google.com/notebooks/data_table.ipynb>data table notebook</a>'\n",
              "            + ' to learn more about interactive tables.';\n",
              "          element.innerHTML = '';\n",
              "          dataTable['output_type'] = 'display_data';\n",
              "          await google.colab.output.renderOutput(dataTable, element);\n",
              "          const docLink = document.createElement('div');\n",
              "          docLink.innerHTML = docLinkHtml;\n",
              "          element.appendChild(docLink);\n",
              "        }\n",
              "      </script>\n",
              "    </div>\n",
              "  </div>\n",
              "  "
            ]
          },
          "metadata": {},
          "execution_count": 58
        }
      ],
      "source": [
        "data_train_raw.sample(n=10, random_state=42)"
      ]
    },
    {
      "cell_type": "code",
      "execution_count": 59,
      "id": "749114aa",
      "metadata": {
        "execution": {
          "iopub.execute_input": "2022-12-17T13:50:33.677062Z",
          "iopub.status.busy": "2022-12-17T13:50:33.675904Z",
          "iopub.status.idle": "2022-12-17T13:50:33.696149Z",
          "shell.execute_reply": "2022-12-17T13:50:33.694977Z"
        },
        "papermill": {
          "duration": 0.046533,
          "end_time": "2022-12-17T13:50:33.699017",
          "exception": false,
          "start_time": "2022-12-17T13:50:33.652484",
          "status": "completed"
        },
        "tags": [],
        "colab": {
          "base_uri": "https://localhost:8080/"
        },
        "id": "749114aa",
        "outputId": "c26d6938-c92a-4f8f-febc-d9ae175f5655"
      },
      "outputs": [
        {
          "output_type": "execute_result",
          "data": {
            "text/plain": [
              "offer expiration                            0\n",
              "income_range                                0\n",
              "no_visited_Cold drinks                    198\n",
              "travelled_more_than_15mins_for_offer        0\n",
              "Restaur_spend_less_than20                 121\n",
              "Marital Status                              0\n",
              "restaurant type                             0\n",
              "age                                         0\n",
              "Prefer western over chinese                 0\n",
              "travelled_more_than_25mins_for_offer        0\n",
              "travelled_more_than_5mins_for_offer         0\n",
              "no_visited_bars                            93\n",
              "gender                                      0\n",
              "car                                     12268\n",
              "restuarant_same_direction_house             0\n",
              "Cooks regularly                             0\n",
              "Customer type                               0\n",
              "Qualification                               0\n",
              "is foodie                                   0\n",
              "no_Take-aways                             144\n",
              "Job/Job Industry                            0\n",
              "restuarant_opposite_direction_house         0\n",
              "has Children                                0\n",
              "visit restaurant with rating (avg)          0\n",
              "temperature                                 0\n",
              "Restaur_spend_greater_than20              160\n",
              "Travel Time                                 0\n",
              "Climate                                     0\n",
              "drop location                               0\n",
              "Prefer home food                            0\n",
              "Offer Accepted                              0\n",
              "dtype: int64"
            ]
          },
          "metadata": {},
          "execution_count": 59
        }
      ],
      "source": [
        "data_train_raw.isna().sum()"
      ]
    },
    {
      "cell_type": "markdown",
      "id": "d135e7c0",
      "metadata": {
        "papermill": {
          "duration": 0.023598,
          "end_time": "2022-12-17T13:50:33.745718",
          "exception": false,
          "start_time": "2022-12-17T13:50:33.722120",
          "status": "completed"
        },
        "tags": [],
        "id": "d135e7c0"
      },
      "source": [
        "# Preprocessing"
      ]
    },
    {
      "cell_type": "markdown",
      "id": "69d745d5",
      "metadata": {
        "papermill": {
          "duration": 0.021911,
          "end_time": "2022-12-17T13:50:33.789919",
          "exception": false,
          "start_time": "2022-12-17T13:50:33.768008",
          "status": "completed"
        },
        "tags": [],
        "id": "69d745d5"
      },
      "source": [
        "## Handling of Categorical Vairbales"
      ]
    },
    {
      "cell_type": "code",
      "execution_count": 60,
      "id": "54104d3a",
      "metadata": {
        "execution": {
          "iopub.execute_input": "2022-12-17T13:50:33.837555Z",
          "iopub.status.busy": "2022-12-17T13:50:33.837124Z",
          "iopub.status.idle": "2022-12-17T13:50:33.853201Z",
          "shell.execute_reply": "2022-12-17T13:50:33.852087Z"
        },
        "papermill": {
          "duration": 0.0431,
          "end_time": "2022-12-17T13:50:33.855806",
          "exception": false,
          "start_time": "2022-12-17T13:50:33.812706",
          "status": "completed"
        },
        "tags": [],
        "id": "54104d3a"
      },
      "outputs": [],
      "source": [
        "for dataset in datasets:\n",
        "    dataset.loc[(dataset['travelled_more_than_25mins_for_offer'] == 1), 'travel_more'] = 3\n",
        "    dataset.loc[((dataset['travelled_more_than_15mins_for_offer'] == 1) & (dataset['travelled_more_than_25mins_for_offer'] == 0) & (dataset['travelled_more_than_5mins_for_offer'] == 1)), 'travel_more'] = 2\n",
        "    dataset.loc[(((dataset['travelled_more_than_5mins_for_offer'] == 1) & dataset['travelled_more_than_15mins_for_offer'] == 0) & (dataset['travelled_more_than_25mins_for_offer'] == 0)), 'travel_more'] = 1"
      ]
    },
    {
      "cell_type": "markdown",
      "id": "66e9a1a7",
      "metadata": {
        "papermill": {
          "duration": 0.021663,
          "end_time": "2022-12-17T13:50:33.899533",
          "exception": false,
          "start_time": "2022-12-17T13:50:33.877870",
          "status": "completed"
        },
        "tags": [],
        "id": "66e9a1a7"
      },
      "source": [
        "## Dropping Unnecessary Columns"
      ]
    },
    {
      "cell_type": "code",
      "execution_count": 61,
      "id": "8d71daf6",
      "metadata": {
        "execution": {
          "iopub.execute_input": "2022-12-17T13:50:33.946942Z",
          "iopub.status.busy": "2022-12-17T13:50:33.945626Z",
          "iopub.status.idle": "2022-12-17T13:50:34.019361Z",
          "shell.execute_reply": "2022-12-17T13:50:34.018156Z"
        },
        "papermill": {
          "duration": 0.10053,
          "end_time": "2022-12-17T13:50:34.022215",
          "exception": false,
          "start_time": "2022-12-17T13:50:33.921685",
          "status": "completed"
        },
        "tags": [],
        "id": "8d71daf6"
      },
      "outputs": [],
      "source": [
        "def dropcol(field):\n",
        "    for dataset in datasets:\n",
        "        dataset.drop([field], axis=1, inplace=True)\n",
        "\n",
        "for i in ['travelled_more_than_25mins_for_offer', 'travelled_more_than_15mins_for_offer', 'travelled_more_than_5mins_for_offer', \n",
        "          'Prefer western over chinese', 'Cooks regularly', 'is foodie', 'visit restaurant with rating (avg)', \n",
        "          'Prefer home food', 'car', 'restuarant_same_direction_house', 'Restaur_spend_less_than20', 'has Children']: \n",
        "    dropcol(i)"
      ]
    },
    {
      "cell_type": "markdown",
      "id": "8acbff7f",
      "metadata": {
        "papermill": {
          "duration": 0.022432,
          "end_time": "2022-12-17T13:50:34.067841",
          "exception": false,
          "start_time": "2022-12-17T13:50:34.045409",
          "status": "completed"
        },
        "tags": [],
        "id": "8acbff7f"
      },
      "source": [
        "## Label Encoder"
      ]
    },
    {
      "cell_type": "code",
      "execution_count": 62,
      "id": "382651eb",
      "metadata": {
        "execution": {
          "iopub.execute_input": "2022-12-17T13:50:34.115457Z",
          "iopub.status.busy": "2022-12-17T13:50:34.115035Z",
          "iopub.status.idle": "2022-12-17T13:50:34.276827Z",
          "shell.execute_reply": "2022-12-17T13:50:34.275627Z"
        },
        "papermill": {
          "duration": 0.188845,
          "end_time": "2022-12-17T13:50:34.279882",
          "exception": false,
          "start_time": "2022-12-17T13:50:34.091037",
          "status": "completed"
        },
        "tags": [],
        "id": "382651eb"
      },
      "outputs": [],
      "source": [
        "'''\n",
        "for dataset in datasets:\n",
        "    dataset['offer expiration'] = dataset['offer expiration'].apply(lambda x: 0 if x == '10hours' else 1)\n",
        "'''\n",
        "datasets[0]['Offer Accepted'] = datasets[0]['Offer Accepted'].apply(lambda x: 0 if x == 'No' else 1)\n",
        "\n",
        "from sklearn.preprocessing import LabelEncoder\n",
        "\n",
        "def EncLabel(field):\n",
        "    label = LabelEncoder()\n",
        "    label.fit(datasets[0][field])\n",
        "    \n",
        "    for dataset in datasets:\n",
        "        dataset[field] = label.transform(dataset[field])\n",
        "\n",
        "#EncLabel('offer expiration')"
      ]
    },
    {
      "cell_type": "markdown",
      "id": "1eddb91d",
      "metadata": {
        "papermill": {
          "duration": 0.022641,
          "end_time": "2022-12-17T13:50:34.326927",
          "exception": false,
          "start_time": "2022-12-17T13:50:34.304286",
          "status": "completed"
        },
        "tags": [],
        "id": "1eddb91d"
      },
      "source": [
        "## Ordinal Encoder"
      ]
    },
    {
      "cell_type": "code",
      "execution_count": 63,
      "id": "2f5b5ed5",
      "metadata": {
        "execution": {
          "iopub.execute_input": "2022-12-17T13:50:34.373869Z",
          "iopub.status.busy": "2022-12-17T13:50:34.372991Z",
          "iopub.status.idle": "2022-12-17T13:50:34.479659Z",
          "shell.execute_reply": "2022-12-17T13:50:34.478308Z"
        },
        "papermill": {
          "duration": 0.133291,
          "end_time": "2022-12-17T13:50:34.482518",
          "exception": false,
          "start_time": "2022-12-17T13:50:34.349227",
          "status": "completed"
        },
        "tags": [],
        "id": "2f5b5ed5"
      },
      "outputs": [],
      "source": [
        "from sklearn.preprocessing import OrdinalEncoder\n",
        "\n",
        "def EncOrdinal(field,values=None):\n",
        "    if values:\n",
        "        ordinal = OrdinalEncoder(handle_unknown=\"use_encoded_value\", unknown_value=np.nan, categories=[values])\n",
        "    else:\n",
        "        ordinal = OrdinalEncoder(handle_unknown=\"use_encoded_value\", unknown_value=np.nan)\n",
        "\n",
        "    ordinal.fit(datasets[0][[field]])\n",
        "\n",
        "    for dataset in datasets:\n",
        "        dataset[field] = ordinal.transform(dataset[[field]])\n",
        "        \n",
        "EncOrdinal('income_range', ['Less than ₹12500', '₹12500 - ₹24999', '₹25000 - ₹37499', '₹37500 - ₹49999', '₹50000 - ₹62499', '₹62500 - ₹74999', '₹75000 - ₹87499', '₹87500 - ₹99999', '₹100000 or More'])\n",
        "EncOrdinal('age', ['below21', '21', '26', '31', '36', '41', '46','50plus'])\n",
        "EncOrdinal('Restaur_spend_greater_than20', ['never', 'less1', '1~3', '4~8', 'gt8'])\n",
        "EncOrdinal('no_visited_Cold drinks', ['never', 'less1', '1~3', '4~8', 'gt8'])\n",
        "EncOrdinal('no_visited_bars', ['never', 'less1', '1~3', '4~8', 'gt8'])\n",
        "EncOrdinal('no_Take-aways', ['never', 'less1', '1~3', '4~8', 'gt8'])\n",
        "EncOrdinal('Marital Status')\n",
        "#EncOrdinal()\n",
        "#EncOrdinal('Restaur_spend_less_than20', ['never', 'less1', '1~3', '4~8', 'gt8'])"
      ]
    },
    {
      "cell_type": "markdown",
      "id": "88b276b7",
      "metadata": {
        "papermill": {
          "duration": 0.021865,
          "end_time": "2022-12-17T13:50:34.527030",
          "exception": false,
          "start_time": "2022-12-17T13:50:34.505165",
          "status": "completed"
        },
        "tags": [],
        "id": "88b276b7"
      },
      "source": [
        "## One Hot Encoding"
      ]
    },
    {
      "cell_type": "code",
      "execution_count": 64,
      "id": "a0b2fae2",
      "metadata": {
        "execution": {
          "iopub.execute_input": "2022-12-17T13:50:34.573673Z",
          "iopub.status.busy": "2022-12-17T13:50:34.572835Z",
          "iopub.status.idle": "2022-12-17T13:50:34.579375Z",
          "shell.execute_reply": "2022-12-17T13:50:34.578362Z"
        },
        "papermill": {
          "duration": 0.032951,
          "end_time": "2022-12-17T13:50:34.582019",
          "exception": false,
          "start_time": "2022-12-17T13:50:34.549068",
          "status": "completed"
        },
        "tags": [],
        "id": "a0b2fae2"
      },
      "outputs": [],
      "source": [
        "def OneHot(field):\n",
        "    dummies = pd.get_dummies(datasets[0][[field]])\n",
        "    \n",
        "    for dataset in datasets:\n",
        "        dataset.drop(field, axis=1, inplace=True)\n",
        "        dataset[dummies.columns] = dummies\n",
        "\n",
        "#OneHot('Climate')"
      ]
    },
    {
      "cell_type": "markdown",
      "id": "edbbb1a8",
      "metadata": {
        "papermill": {
          "duration": 0.021676,
          "end_time": "2022-12-17T13:50:34.625819",
          "exception": false,
          "start_time": "2022-12-17T13:50:34.604143",
          "status": "completed"
        },
        "tags": [],
        "id": "edbbb1a8"
      },
      "source": [
        "## Binning"
      ]
    },
    {
      "cell_type": "code",
      "execution_count": 65,
      "id": "82616b80",
      "metadata": {
        "execution": {
          "iopub.execute_input": "2022-12-17T13:50:34.672348Z",
          "iopub.status.busy": "2022-12-17T13:50:34.671524Z",
          "iopub.status.idle": "2022-12-17T13:50:34.678824Z",
          "shell.execute_reply": "2022-12-17T13:50:34.677580Z"
        },
        "papermill": {
          "duration": 0.033314,
          "end_time": "2022-12-17T13:50:34.681223",
          "exception": false,
          "start_time": "2022-12-17T13:50:34.647909",
          "status": "completed"
        },
        "tags": [],
        "colab": {
          "base_uri": "https://localhost:8080/",
          "height": 35
        },
        "id": "82616b80",
        "outputId": "c9cf2aa2-3914-4b12-ee83-7bf93c7f96a3"
      },
      "outputs": [
        {
          "output_type": "execute_result",
          "data": {
            "text/plain": [
              "\"\\n    # Continuous variables (binning)\\n    dataset['AgeBin'] = pd.cut(dataset['age'].astype(int), 5)\\n    dataset.drop(['age'], axis=1, inplace=True)\\n\""
            ],
            "application/vnd.google.colaboratory.intrinsic+json": {
              "type": "string"
            }
          },
          "metadata": {},
          "execution_count": 65
        }
      ],
      "source": [
        "'''\n",
        "    # Continuous variables (binning)\n",
        "    dataset['AgeBin'] = pd.cut(dataset['age'].astype(int), 5)\n",
        "    dataset.drop(['age'], axis=1, inplace=True)\n",
        "'''"
      ]
    },
    {
      "cell_type": "markdown",
      "id": "3c0e7875",
      "metadata": {
        "papermill": {
          "duration": 0.023666,
          "end_time": "2022-12-17T13:50:34.732036",
          "exception": false,
          "start_time": "2022-12-17T13:50:34.708370",
          "status": "completed"
        },
        "tags": [],
        "id": "3c0e7875"
      },
      "source": [
        "## Binary Encoding"
      ]
    },
    {
      "cell_type": "code",
      "execution_count": 66,
      "id": "c7cfe8e0",
      "metadata": {
        "execution": {
          "iopub.execute_input": "2022-12-17T13:50:34.781690Z",
          "iopub.status.busy": "2022-12-17T13:50:34.781264Z",
          "iopub.status.idle": "2022-12-17T13:50:34.792930Z",
          "shell.execute_reply": "2022-12-17T13:50:34.791512Z"
        },
        "papermill": {
          "duration": 0.039522,
          "end_time": "2022-12-17T13:50:34.795342",
          "exception": false,
          "start_time": "2022-12-17T13:50:34.755820",
          "status": "completed"
        },
        "tags": [],
        "id": "c7cfe8e0"
      },
      "outputs": [],
      "source": [
        "def BinEnc(field, df, values=None):\n",
        "    vals = df[field].value_counts().keys()\n",
        "    no_vals = len(vals)\n",
        "    no_cols = no_vals.bit_length()\n",
        "    if values:\n",
        "        ordinal = OrdinalEncoder(handle_unknown=\"use_encoded_value\", unknown_value=np.nan, categories=[values])\n",
        "    else:\n",
        "        ordinal = OrdinalEncoder(handle_unknown=\"use_encoded_value\", unknown_value=np.nan)\n",
        "    ordinal.fit(df[[field]])\n",
        "    df[field] = ordinal.transform(df[[field]])\n",
        "    bin_no = []\n",
        "    d = {}\n",
        "    for k in range(no_cols):\n",
        "        f = field+\"_\"+str(k)\n",
        "        d[f] = []\n",
        "\n",
        "    for i in range(len(df[field])):\n",
        "        j = df[field][i]\n",
        "        bin_j = bin(int(j))[2:]\n",
        "        diff = no_cols - len(bin_j)\n",
        "        bin_j = \"0\" * diff + str(bin_j)\n",
        "        bin_no.append(bin_j)\n",
        "\n",
        "        for k in range(no_cols):\n",
        "            f = field+\"_\"+str(k)\n",
        "            d[f].append(int(bin_j[k]))\n",
        "\n",
        "    for i in d.keys():\n",
        "        df[i] = d[i]\n",
        "    df.drop(field, inplace=True, axis=1)\n",
        "    return df"
      ]
    },
    {
      "cell_type": "code",
      "execution_count": 67,
      "id": "2685a9f3",
      "metadata": {
        "execution": {
          "iopub.execute_input": "2022-12-17T13:50:34.842580Z",
          "iopub.status.busy": "2022-12-17T13:50:34.841458Z",
          "iopub.status.idle": "2022-12-17T13:50:36.618580Z",
          "shell.execute_reply": "2022-12-17T13:50:36.617228Z"
        },
        "papermill": {
          "duration": 1.804187,
          "end_time": "2022-12-17T13:50:36.621714",
          "exception": false,
          "start_time": "2022-12-17T13:50:34.817527",
          "status": "completed"
        },
        "tags": [],
        "id": "2685a9f3"
      },
      "outputs": [],
      "source": [
        "for dataset in datasets:\n",
        "    for field in ['drop location', 'Customer type', 'Climate', 'temperature', 'restaurant type',\n",
        "            'offer expiration', 'gender', 'Job/Job Industry']:\n",
        "        dataset = BinEnc(field, dataset)\n",
        "    dataset = BinEnc('Qualification', dataset, ['Some High School', 'High School Graduate','Some college - no degree','Associates degree', 'Bachelors degree', 'Graduate degree (Masters or Doctorate)'])"
      ]
    },
    {
      "cell_type": "markdown",
      "id": "ccd6d8a9",
      "metadata": {
        "papermill": {
          "duration": 0.023219,
          "end_time": "2022-12-17T13:50:36.667703",
          "exception": false,
          "start_time": "2022-12-17T13:50:36.644484",
          "status": "completed"
        },
        "tags": [],
        "id": "ccd6d8a9"
      },
      "source": [
        "## Drop some Binary Encoded columns"
      ]
    },
    {
      "cell_type": "code",
      "execution_count": 68,
      "id": "6b38099f",
      "metadata": {
        "execution": {
          "iopub.execute_input": "2022-12-17T13:50:36.716464Z",
          "iopub.status.busy": "2022-12-17T13:50:36.715548Z",
          "iopub.status.idle": "2022-12-17T13:50:36.732527Z",
          "shell.execute_reply": "2022-12-17T13:50:36.730957Z"
        },
        "papermill": {
          "duration": 0.043743,
          "end_time": "2022-12-17T13:50:36.735386",
          "exception": false,
          "start_time": "2022-12-17T13:50:36.691643",
          "status": "completed"
        },
        "tags": [],
        "id": "6b38099f"
      },
      "outputs": [],
      "source": [
        "for i in ['Customer type_0','offer expiration_0', 'gender_0' , 'Job/Job Industry_1']:\n",
        "    dropcol(i)"
      ]
    },
    {
      "cell_type": "code",
      "execution_count": 69,
      "id": "78e7d321",
      "metadata": {
        "execution": {
          "iopub.execute_input": "2022-12-17T13:50:36.782422Z",
          "iopub.status.busy": "2022-12-17T13:50:36.781968Z",
          "iopub.status.idle": "2022-12-17T13:50:36.818475Z",
          "shell.execute_reply": "2022-12-17T13:50:36.817225Z"
        },
        "papermill": {
          "duration": 0.063731,
          "end_time": "2022-12-17T13:50:36.821330",
          "exception": false,
          "start_time": "2022-12-17T13:50:36.757599",
          "status": "completed"
        },
        "tags": [],
        "colab": {
          "base_uri": "https://localhost:8080/",
          "height": 444
        },
        "id": "78e7d321",
        "outputId": "1a03f07e-ee81-4b08-e86b-c274c49feaff"
      },
      "outputs": [
        {
          "output_type": "execute_result",
          "data": {
            "text/plain": [
              "       income_range  no_visited_Cold drinks  Marital Status  age  \\\n",
              "2442            3.0                     1.0             1.0  6.0   \n",
              "970             8.0                     2.0             2.0  1.0   \n",
              "5763            6.0                     3.0             1.0  5.0   \n",
              "6621            8.0                     0.0             1.0  3.0   \n",
              "11410           4.0                     1.0             1.0  7.0   \n",
              "10440           0.0                     2.0             1.0  7.0   \n",
              "10836           2.0                     0.0             3.0  0.0   \n",
              "8522            3.0                     NaN             1.0  4.0   \n",
              "749             8.0                     1.0             2.0  4.0   \n",
              "12067           2.0                     1.0             1.0  6.0   \n",
              "\n",
              "       no_visited_bars  no_Take-aways  restuarant_opposite_direction_house  \\\n",
              "2442               1.0            2.0                                    0   \n",
              "970                1.0            2.0                                    1   \n",
              "5763               1.0            4.0                                    1   \n",
              "6621               1.0            3.0                                    0   \n",
              "11410              0.0            1.0                                    1   \n",
              "10440              1.0            3.0                                    0   \n",
              "10836              0.0            2.0                                    0   \n",
              "8522               1.0            2.0                                    0   \n",
              "749                NaN            4.0                                    1   \n",
              "12067              1.0            2.0                                    1   \n",
              "\n",
              "       Restaur_spend_greater_than20  Travel Time  Offer Accepted  travel_more  \\\n",
              "2442                            0.0            7               1          2.0   \n",
              "970                             1.0           14               1          2.0   \n",
              "5763                            1.0           18               1          1.0   \n",
              "6621                            1.0            7               0          1.0   \n",
              "11410                           1.0           18               0          2.0   \n",
              "10440                           1.0           22               0          2.0   \n",
              "10836                           0.0            7               0          1.0   \n",
              "8522                            2.0            7               0          1.0   \n",
              "749                             2.0           10               1          2.0   \n",
              "12067                           0.0           10               0          1.0   \n",
              "\n",
              "       drop location_0  drop location_1  Customer type_1  Customer type_2  \\\n",
              "2442                 1                0                1                0   \n",
              "970                  0                1                0                0   \n",
              "5763                 0                0                1                0   \n",
              "6621                 0                0                0                0   \n",
              "11410                1                0                0                0   \n",
              "10440                0                1                0                0   \n",
              "10836                1                0                1                0   \n",
              "8522                 0                1                1                1   \n",
              "749                  0                0                0                0   \n",
              "12067                0                0                0                1   \n",
              "\n",
              "       Climate_0  Climate_1  temperature_0  temperature_1  restaurant type_0  \\\n",
              "2442           1          0              1              0                  0   \n",
              "970            1          0              1              0                  0   \n",
              "5763           1          0              0              1                  0   \n",
              "6621           0          1              1              0                  0   \n",
              "11410          0          0              1              0                  0   \n",
              "10440          1          0              1              0                  0   \n",
              "10836          0          1              1              0                  0   \n",
              "8522           1          0              0              1                  0   \n",
              "749            0          1              0              1                  0   \n",
              "12067          0          1              1              0                  0   \n",
              "\n",
              "       restaurant type_1  restaurant type_2  offer expiration_1  gender_1  \\\n",
              "2442                   0                  1                   1         1   \n",
              "970                    1                  1                   0         1   \n",
              "5763                   1                  1                   1         1   \n",
              "6621                   1                  0                   0         1   \n",
              "11410                  1                  0                   0         1   \n",
              "10440                  1                  0                   0         1   \n",
              "10836                  1                  1                   0         0   \n",
              "8522                   1                  0                   0         0   \n",
              "749                    0                  0                   1         1   \n",
              "12067                  1                  0                   0         0   \n",
              "\n",
              "       Job/Job Industry_0  Job/Job Industry_2  Job/Job Industry_3  \\\n",
              "2442                    0                   0                   1   \n",
              "970                     1                   1                   1   \n",
              "5763                    0                   1                   0   \n",
              "6621                    0                   0                   1   \n",
              "11410                   1                   0                   0   \n",
              "10440                   1                   1                   1   \n",
              "10836                   1                   1                   1   \n",
              "8522                    0                   1                   1   \n",
              "749                     1                   0                   0   \n",
              "12067                   1                   1                   0   \n",
              "\n",
              "       Job/Job Industry_4  Qualification_0  Qualification_1  Qualification_2  \n",
              "2442                    0                1                0                0  \n",
              "970                     0                0                1                0  \n",
              "5763                    1                1                0                1  \n",
              "6621                    1                1                0                0  \n",
              "11410                   1                1                0                0  \n",
              "10440                   0                1                0                0  \n",
              "10836                   0                0                1                0  \n",
              "8522                    1                1                0                0  \n",
              "749                     0                1                0                0  \n",
              "12067                   1                0                1                0  "
            ],
            "text/html": [
              "\n",
              "  <div id=\"df-537def50-f0a2-4c69-b3b1-467c507217b2\">\n",
              "    <div class=\"colab-df-container\">\n",
              "      <div>\n",
              "<style scoped>\n",
              "    .dataframe tbody tr th:only-of-type {\n",
              "        vertical-align: middle;\n",
              "    }\n",
              "\n",
              "    .dataframe tbody tr th {\n",
              "        vertical-align: top;\n",
              "    }\n",
              "\n",
              "    .dataframe thead th {\n",
              "        text-align: right;\n",
              "    }\n",
              "</style>\n",
              "<table border=\"1\" class=\"dataframe\">\n",
              "  <thead>\n",
              "    <tr style=\"text-align: right;\">\n",
              "      <th></th>\n",
              "      <th>income_range</th>\n",
              "      <th>no_visited_Cold drinks</th>\n",
              "      <th>Marital Status</th>\n",
              "      <th>age</th>\n",
              "      <th>no_visited_bars</th>\n",
              "      <th>no_Take-aways</th>\n",
              "      <th>restuarant_opposite_direction_house</th>\n",
              "      <th>Restaur_spend_greater_than20</th>\n",
              "      <th>Travel Time</th>\n",
              "      <th>Offer Accepted</th>\n",
              "      <th>travel_more</th>\n",
              "      <th>drop location_0</th>\n",
              "      <th>drop location_1</th>\n",
              "      <th>Customer type_1</th>\n",
              "      <th>Customer type_2</th>\n",
              "      <th>Climate_0</th>\n",
              "      <th>Climate_1</th>\n",
              "      <th>temperature_0</th>\n",
              "      <th>temperature_1</th>\n",
              "      <th>restaurant type_0</th>\n",
              "      <th>restaurant type_1</th>\n",
              "      <th>restaurant type_2</th>\n",
              "      <th>offer expiration_1</th>\n",
              "      <th>gender_1</th>\n",
              "      <th>Job/Job Industry_0</th>\n",
              "      <th>Job/Job Industry_2</th>\n",
              "      <th>Job/Job Industry_3</th>\n",
              "      <th>Job/Job Industry_4</th>\n",
              "      <th>Qualification_0</th>\n",
              "      <th>Qualification_1</th>\n",
              "      <th>Qualification_2</th>\n",
              "    </tr>\n",
              "  </thead>\n",
              "  <tbody>\n",
              "    <tr>\n",
              "      <th>2442</th>\n",
              "      <td>3.0</td>\n",
              "      <td>1.0</td>\n",
              "      <td>1.0</td>\n",
              "      <td>6.0</td>\n",
              "      <td>1.0</td>\n",
              "      <td>2.0</td>\n",
              "      <td>0</td>\n",
              "      <td>0.0</td>\n",
              "      <td>7</td>\n",
              "      <td>1</td>\n",
              "      <td>2.0</td>\n",
              "      <td>1</td>\n",
              "      <td>0</td>\n",
              "      <td>1</td>\n",
              "      <td>0</td>\n",
              "      <td>1</td>\n",
              "      <td>0</td>\n",
              "      <td>1</td>\n",
              "      <td>0</td>\n",
              "      <td>0</td>\n",
              "      <td>0</td>\n",
              "      <td>1</td>\n",
              "      <td>1</td>\n",
              "      <td>1</td>\n",
              "      <td>0</td>\n",
              "      <td>0</td>\n",
              "      <td>1</td>\n",
              "      <td>0</td>\n",
              "      <td>1</td>\n",
              "      <td>0</td>\n",
              "      <td>0</td>\n",
              "    </tr>\n",
              "    <tr>\n",
              "      <th>970</th>\n",
              "      <td>8.0</td>\n",
              "      <td>2.0</td>\n",
              "      <td>2.0</td>\n",
              "      <td>1.0</td>\n",
              "      <td>1.0</td>\n",
              "      <td>2.0</td>\n",
              "      <td>1</td>\n",
              "      <td>1.0</td>\n",
              "      <td>14</td>\n",
              "      <td>1</td>\n",
              "      <td>2.0</td>\n",
              "      <td>0</td>\n",
              "      <td>1</td>\n",
              "      <td>0</td>\n",
              "      <td>0</td>\n",
              "      <td>1</td>\n",
              "      <td>0</td>\n",
              "      <td>1</td>\n",
              "      <td>0</td>\n",
              "      <td>0</td>\n",
              "      <td>1</td>\n",
              "      <td>1</td>\n",
              "      <td>0</td>\n",
              "      <td>1</td>\n",
              "      <td>1</td>\n",
              "      <td>1</td>\n",
              "      <td>1</td>\n",
              "      <td>0</td>\n",
              "      <td>0</td>\n",
              "      <td>1</td>\n",
              "      <td>0</td>\n",
              "    </tr>\n",
              "    <tr>\n",
              "      <th>5763</th>\n",
              "      <td>6.0</td>\n",
              "      <td>3.0</td>\n",
              "      <td>1.0</td>\n",
              "      <td>5.0</td>\n",
              "      <td>1.0</td>\n",
              "      <td>4.0</td>\n",
              "      <td>1</td>\n",
              "      <td>1.0</td>\n",
              "      <td>18</td>\n",
              "      <td>1</td>\n",
              "      <td>1.0</td>\n",
              "      <td>0</td>\n",
              "      <td>0</td>\n",
              "      <td>1</td>\n",
              "      <td>0</td>\n",
              "      <td>1</td>\n",
              "      <td>0</td>\n",
              "      <td>0</td>\n",
              "      <td>1</td>\n",
              "      <td>0</td>\n",
              "      <td>1</td>\n",
              "      <td>1</td>\n",
              "      <td>1</td>\n",
              "      <td>1</td>\n",
              "      <td>0</td>\n",
              "      <td>1</td>\n",
              "      <td>0</td>\n",
              "      <td>1</td>\n",
              "      <td>1</td>\n",
              "      <td>0</td>\n",
              "      <td>1</td>\n",
              "    </tr>\n",
              "    <tr>\n",
              "      <th>6621</th>\n",
              "      <td>8.0</td>\n",
              "      <td>0.0</td>\n",
              "      <td>1.0</td>\n",
              "      <td>3.0</td>\n",
              "      <td>1.0</td>\n",
              "      <td>3.0</td>\n",
              "      <td>0</td>\n",
              "      <td>1.0</td>\n",
              "      <td>7</td>\n",
              "      <td>0</td>\n",
              "      <td>1.0</td>\n",
              "      <td>0</td>\n",
              "      <td>0</td>\n",
              "      <td>0</td>\n",
              "      <td>0</td>\n",
              "      <td>0</td>\n",
              "      <td>1</td>\n",
              "      <td>1</td>\n",
              "      <td>0</td>\n",
              "      <td>0</td>\n",
              "      <td>1</td>\n",
              "      <td>0</td>\n",
              "      <td>0</td>\n",
              "      <td>1</td>\n",
              "      <td>0</td>\n",
              "      <td>0</td>\n",
              "      <td>1</td>\n",
              "      <td>1</td>\n",
              "      <td>1</td>\n",
              "      <td>0</td>\n",
              "      <td>0</td>\n",
              "    </tr>\n",
              "    <tr>\n",
              "      <th>11410</th>\n",
              "      <td>4.0</td>\n",
              "      <td>1.0</td>\n",
              "      <td>1.0</td>\n",
              "      <td>7.0</td>\n",
              "      <td>0.0</td>\n",
              "      <td>1.0</td>\n",
              "      <td>1</td>\n",
              "      <td>1.0</td>\n",
              "      <td>18</td>\n",
              "      <td>0</td>\n",
              "      <td>2.0</td>\n",
              "      <td>1</td>\n",
              "      <td>0</td>\n",
              "      <td>0</td>\n",
              "      <td>0</td>\n",
              "      <td>0</td>\n",
              "      <td>0</td>\n",
              "      <td>1</td>\n",
              "      <td>0</td>\n",
              "      <td>0</td>\n",
              "      <td>1</td>\n",
              "      <td>0</td>\n",
              "      <td>0</td>\n",
              "      <td>1</td>\n",
              "      <td>1</td>\n",
              "      <td>0</td>\n",
              "      <td>0</td>\n",
              "      <td>1</td>\n",
              "      <td>1</td>\n",
              "      <td>0</td>\n",
              "      <td>0</td>\n",
              "    </tr>\n",
              "    <tr>\n",
              "      <th>10440</th>\n",
              "      <td>0.0</td>\n",
              "      <td>2.0</td>\n",
              "      <td>1.0</td>\n",
              "      <td>7.0</td>\n",
              "      <td>1.0</td>\n",
              "      <td>3.0</td>\n",
              "      <td>0</td>\n",
              "      <td>1.0</td>\n",
              "      <td>22</td>\n",
              "      <td>0</td>\n",
              "      <td>2.0</td>\n",
              "      <td>0</td>\n",
              "      <td>1</td>\n",
              "      <td>0</td>\n",
              "      <td>0</td>\n",
              "      <td>1</td>\n",
              "      <td>0</td>\n",
              "      <td>1</td>\n",
              "      <td>0</td>\n",
              "      <td>0</td>\n",
              "      <td>1</td>\n",
              "      <td>0</td>\n",
              "      <td>0</td>\n",
              "      <td>1</td>\n",
              "      <td>1</td>\n",
              "      <td>1</td>\n",
              "      <td>1</td>\n",
              "      <td>0</td>\n",
              "      <td>1</td>\n",
              "      <td>0</td>\n",
              "      <td>0</td>\n",
              "    </tr>\n",
              "    <tr>\n",
              "      <th>10836</th>\n",
              "      <td>2.0</td>\n",
              "      <td>0.0</td>\n",
              "      <td>3.0</td>\n",
              "      <td>0.0</td>\n",
              "      <td>0.0</td>\n",
              "      <td>2.0</td>\n",
              "      <td>0</td>\n",
              "      <td>0.0</td>\n",
              "      <td>7</td>\n",
              "      <td>0</td>\n",
              "      <td>1.0</td>\n",
              "      <td>1</td>\n",
              "      <td>0</td>\n",
              "      <td>1</td>\n",
              "      <td>0</td>\n",
              "      <td>0</td>\n",
              "      <td>1</td>\n",
              "      <td>1</td>\n",
              "      <td>0</td>\n",
              "      <td>0</td>\n",
              "      <td>1</td>\n",
              "      <td>1</td>\n",
              "      <td>0</td>\n",
              "      <td>0</td>\n",
              "      <td>1</td>\n",
              "      <td>1</td>\n",
              "      <td>1</td>\n",
              "      <td>0</td>\n",
              "      <td>0</td>\n",
              "      <td>1</td>\n",
              "      <td>0</td>\n",
              "    </tr>\n",
              "    <tr>\n",
              "      <th>8522</th>\n",
              "      <td>3.0</td>\n",
              "      <td>NaN</td>\n",
              "      <td>1.0</td>\n",
              "      <td>4.0</td>\n",
              "      <td>1.0</td>\n",
              "      <td>2.0</td>\n",
              "      <td>0</td>\n",
              "      <td>2.0</td>\n",
              "      <td>7</td>\n",
              "      <td>0</td>\n",
              "      <td>1.0</td>\n",
              "      <td>0</td>\n",
              "      <td>1</td>\n",
              "      <td>1</td>\n",
              "      <td>1</td>\n",
              "      <td>1</td>\n",
              "      <td>0</td>\n",
              "      <td>0</td>\n",
              "      <td>1</td>\n",
              "      <td>0</td>\n",
              "      <td>1</td>\n",
              "      <td>0</td>\n",
              "      <td>0</td>\n",
              "      <td>0</td>\n",
              "      <td>0</td>\n",
              "      <td>1</td>\n",
              "      <td>1</td>\n",
              "      <td>1</td>\n",
              "      <td>1</td>\n",
              "      <td>0</td>\n",
              "      <td>0</td>\n",
              "    </tr>\n",
              "    <tr>\n",
              "      <th>749</th>\n",
              "      <td>8.0</td>\n",
              "      <td>1.0</td>\n",
              "      <td>2.0</td>\n",
              "      <td>4.0</td>\n",
              "      <td>NaN</td>\n",
              "      <td>4.0</td>\n",
              "      <td>1</td>\n",
              "      <td>2.0</td>\n",
              "      <td>10</td>\n",
              "      <td>1</td>\n",
              "      <td>2.0</td>\n",
              "      <td>0</td>\n",
              "      <td>0</td>\n",
              "      <td>0</td>\n",
              "      <td>0</td>\n",
              "      <td>0</td>\n",
              "      <td>1</td>\n",
              "      <td>0</td>\n",
              "      <td>1</td>\n",
              "      <td>0</td>\n",
              "      <td>0</td>\n",
              "      <td>0</td>\n",
              "      <td>1</td>\n",
              "      <td>1</td>\n",
              "      <td>1</td>\n",
              "      <td>0</td>\n",
              "      <td>0</td>\n",
              "      <td>0</td>\n",
              "      <td>1</td>\n",
              "      <td>0</td>\n",
              "      <td>0</td>\n",
              "    </tr>\n",
              "    <tr>\n",
              "      <th>12067</th>\n",
              "      <td>2.0</td>\n",
              "      <td>1.0</td>\n",
              "      <td>1.0</td>\n",
              "      <td>6.0</td>\n",
              "      <td>1.0</td>\n",
              "      <td>2.0</td>\n",
              "      <td>1</td>\n",
              "      <td>0.0</td>\n",
              "      <td>10</td>\n",
              "      <td>0</td>\n",
              "      <td>1.0</td>\n",
              "      <td>0</td>\n",
              "      <td>0</td>\n",
              "      <td>0</td>\n",
              "      <td>1</td>\n",
              "      <td>0</td>\n",
              "      <td>1</td>\n",
              "      <td>1</td>\n",
              "      <td>0</td>\n",
              "      <td>0</td>\n",
              "      <td>1</td>\n",
              "      <td>0</td>\n",
              "      <td>0</td>\n",
              "      <td>0</td>\n",
              "      <td>1</td>\n",
              "      <td>1</td>\n",
              "      <td>0</td>\n",
              "      <td>1</td>\n",
              "      <td>0</td>\n",
              "      <td>1</td>\n",
              "      <td>0</td>\n",
              "    </tr>\n",
              "  </tbody>\n",
              "</table>\n",
              "</div>\n",
              "      <button class=\"colab-df-convert\" onclick=\"convertToInteractive('df-537def50-f0a2-4c69-b3b1-467c507217b2')\"\n",
              "              title=\"Convert this dataframe to an interactive table.\"\n",
              "              style=\"display:none;\">\n",
              "        \n",
              "  <svg xmlns=\"http://www.w3.org/2000/svg\" height=\"24px\"viewBox=\"0 0 24 24\"\n",
              "       width=\"24px\">\n",
              "    <path d=\"M0 0h24v24H0V0z\" fill=\"none\"/>\n",
              "    <path d=\"M18.56 5.44l.94 2.06.94-2.06 2.06-.94-2.06-.94-.94-2.06-.94 2.06-2.06.94zm-11 1L8.5 8.5l.94-2.06 2.06-.94-2.06-.94L8.5 2.5l-.94 2.06-2.06.94zm10 10l.94 2.06.94-2.06 2.06-.94-2.06-.94-.94-2.06-.94 2.06-2.06.94z\"/><path d=\"M17.41 7.96l-1.37-1.37c-.4-.4-.92-.59-1.43-.59-.52 0-1.04.2-1.43.59L10.3 9.45l-7.72 7.72c-.78.78-.78 2.05 0 2.83L4 21.41c.39.39.9.59 1.41.59.51 0 1.02-.2 1.41-.59l7.78-7.78 2.81-2.81c.8-.78.8-2.07 0-2.86zM5.41 20L4 18.59l7.72-7.72 1.47 1.35L5.41 20z\"/>\n",
              "  </svg>\n",
              "      </button>\n",
              "      \n",
              "  <style>\n",
              "    .colab-df-container {\n",
              "      display:flex;\n",
              "      flex-wrap:wrap;\n",
              "      gap: 12px;\n",
              "    }\n",
              "\n",
              "    .colab-df-convert {\n",
              "      background-color: #E8F0FE;\n",
              "      border: none;\n",
              "      border-radius: 50%;\n",
              "      cursor: pointer;\n",
              "      display: none;\n",
              "      fill: #1967D2;\n",
              "      height: 32px;\n",
              "      padding: 0 0 0 0;\n",
              "      width: 32px;\n",
              "    }\n",
              "\n",
              "    .colab-df-convert:hover {\n",
              "      background-color: #E2EBFA;\n",
              "      box-shadow: 0px 1px 2px rgba(60, 64, 67, 0.3), 0px 1px 3px 1px rgba(60, 64, 67, 0.15);\n",
              "      fill: #174EA6;\n",
              "    }\n",
              "\n",
              "    [theme=dark] .colab-df-convert {\n",
              "      background-color: #3B4455;\n",
              "      fill: #D2E3FC;\n",
              "    }\n",
              "\n",
              "    [theme=dark] .colab-df-convert:hover {\n",
              "      background-color: #434B5C;\n",
              "      box-shadow: 0px 1px 3px 1px rgba(0, 0, 0, 0.15);\n",
              "      filter: drop-shadow(0px 1px 2px rgba(0, 0, 0, 0.3));\n",
              "      fill: #FFFFFF;\n",
              "    }\n",
              "  </style>\n",
              "\n",
              "      <script>\n",
              "        const buttonEl =\n",
              "          document.querySelector('#df-537def50-f0a2-4c69-b3b1-467c507217b2 button.colab-df-convert');\n",
              "        buttonEl.style.display =\n",
              "          google.colab.kernel.accessAllowed ? 'block' : 'none';\n",
              "\n",
              "        async function convertToInteractive(key) {\n",
              "          const element = document.querySelector('#df-537def50-f0a2-4c69-b3b1-467c507217b2');\n",
              "          const dataTable =\n",
              "            await google.colab.kernel.invokeFunction('convertToInteractive',\n",
              "                                                     [key], {});\n",
              "          if (!dataTable) return;\n",
              "\n",
              "          const docLinkHtml = 'Like what you see? Visit the ' +\n",
              "            '<a target=\"_blank\" href=https://colab.research.google.com/notebooks/data_table.ipynb>data table notebook</a>'\n",
              "            + ' to learn more about interactive tables.';\n",
              "          element.innerHTML = '';\n",
              "          dataTable['output_type'] = 'display_data';\n",
              "          await google.colab.output.renderOutput(dataTable, element);\n",
              "          const docLink = document.createElement('div');\n",
              "          docLink.innerHTML = docLinkHtml;\n",
              "          element.appendChild(docLink);\n",
              "        }\n",
              "      </script>\n",
              "    </div>\n",
              "  </div>\n",
              "  "
            ]
          },
          "metadata": {},
          "execution_count": 69
        }
      ],
      "source": [
        "datasets[0].sample(10, random_state=42)"
      ]
    },
    {
      "cell_type": "markdown",
      "id": "8bf62db9",
      "metadata": {
        "papermill": {
          "duration": 0.030624,
          "end_time": "2022-12-17T13:50:36.875073",
          "exception": false,
          "start_time": "2022-12-17T13:50:36.844449",
          "status": "completed"
        },
        "tags": [],
        "id": "8bf62db9"
      },
      "source": [
        "## Duplicate Row Elimination"
      ]
    },
    {
      "cell_type": "code",
      "execution_count": 70,
      "id": "5b09d9cf",
      "metadata": {
        "execution": {
          "iopub.execute_input": "2022-12-17T13:50:36.924169Z",
          "iopub.status.busy": "2022-12-17T13:50:36.923554Z",
          "iopub.status.idle": "2022-12-17T13:50:36.955611Z",
          "shell.execute_reply": "2022-12-17T13:50:36.954026Z"
        },
        "papermill": {
          "duration": 0.059523,
          "end_time": "2022-12-17T13:50:36.958649",
          "exception": false,
          "start_time": "2022-12-17T13:50:36.899126",
          "status": "completed"
        },
        "tags": [],
        "colab": {
          "base_uri": "https://localhost:8080/"
        },
        "id": "5b09d9cf",
        "outputId": "a650b872-f4d2-4924-c481-a3c5c80e697b"
      },
      "outputs": [
        {
          "output_type": "stream",
          "name": "stdout",
          "text": [
            "Duplicate rows: False    12365\n",
            "True        14\n",
            "dtype: int64\n"
          ]
        }
      ],
      "source": [
        "print('Duplicate rows:', datasets[0].duplicated().value_counts())\n",
        "datasets[0].drop_duplicates(inplace=True)"
      ]
    },
    {
      "cell_type": "markdown",
      "id": "dc2a0cd4",
      "metadata": {
        "papermill": {
          "duration": 0.023013,
          "end_time": "2022-12-17T13:50:37.004766",
          "exception": false,
          "start_time": "2022-12-17T13:50:36.981753",
          "status": "completed"
        },
        "tags": [],
        "id": "dc2a0cd4"
      },
      "source": [
        "## Split into features and label"
      ]
    },
    {
      "cell_type": "code",
      "execution_count": 71,
      "id": "8971fd51",
      "metadata": {
        "execution": {
          "iopub.execute_input": "2022-12-17T13:50:37.052676Z",
          "iopub.status.busy": "2022-12-17T13:50:37.052265Z",
          "iopub.status.idle": "2022-12-17T13:50:37.061768Z",
          "shell.execute_reply": "2022-12-17T13:50:37.060314Z"
        },
        "papermill": {
          "duration": 0.036743,
          "end_time": "2022-12-17T13:50:37.064262",
          "exception": false,
          "start_time": "2022-12-17T13:50:37.027519",
          "status": "completed"
        },
        "tags": [],
        "id": "8971fd51"
      },
      "outputs": [],
      "source": [
        "X_train = datasets[0].drop('Offer Accepted', axis=1, inplace=False)\n",
        "y_train = datasets[0][['Offer Accepted']]\n",
        "features = X_train.columns\n",
        "X_test = datasets[1]"
      ]
    },
    {
      "cell_type": "code",
      "execution_count": 72,
      "id": "046b83fc",
      "metadata": {
        "execution": {
          "iopub.execute_input": "2022-12-17T13:50:37.112821Z",
          "iopub.status.busy": "2022-12-17T13:50:37.111610Z",
          "iopub.status.idle": "2022-12-17T13:50:37.124044Z",
          "shell.execute_reply": "2022-12-17T13:50:37.122825Z"
        },
        "papermill": {
          "duration": 0.039364,
          "end_time": "2022-12-17T13:50:37.126703",
          "exception": false,
          "start_time": "2022-12-17T13:50:37.087339",
          "status": "completed"
        },
        "tags": [],
        "colab": {
          "base_uri": "https://localhost:8080/"
        },
        "id": "046b83fc",
        "outputId": "b9dad024-ffff-426d-b1fd-85357d9c961c"
      },
      "outputs": [
        {
          "output_type": "execute_result",
          "data": {
            "text/plain": [
              "income_range                             0\n",
              "no_visited_Cold drinks                 197\n",
              "Marital Status                           0\n",
              "age                                      0\n",
              "no_visited_bars                         93\n",
              "no_Take-aways                          144\n",
              "restuarant_opposite_direction_house      0\n",
              "Restaur_spend_greater_than20           160\n",
              "Travel Time                              0\n",
              "travel_more                              0\n",
              "drop location_0                          0\n",
              "drop location_1                          0\n",
              "Customer type_1                          0\n",
              "Customer type_2                          0\n",
              "Climate_0                                0\n",
              "Climate_1                                0\n",
              "temperature_0                            0\n",
              "temperature_1                            0\n",
              "restaurant type_0                        0\n",
              "restaurant type_1                        0\n",
              "restaurant type_2                        0\n",
              "offer expiration_1                       0\n",
              "gender_1                                 0\n",
              "Job/Job Industry_0                       0\n",
              "Job/Job Industry_2                       0\n",
              "Job/Job Industry_3                       0\n",
              "Job/Job Industry_4                       0\n",
              "Qualification_0                          0\n",
              "Qualification_1                          0\n",
              "Qualification_2                          0\n",
              "dtype: int64"
            ]
          },
          "metadata": {},
          "execution_count": 72
        }
      ],
      "source": [
        "X_train.isna().sum()"
      ]
    },
    {
      "cell_type": "markdown",
      "id": "a964619d",
      "metadata": {
        "papermill": {
          "duration": 0.022954,
          "end_time": "2022-12-17T13:50:37.173881",
          "exception": false,
          "start_time": "2022-12-17T13:50:37.150927",
          "status": "completed"
        },
        "tags": [],
        "id": "a964619d"
      },
      "source": [
        "## Impute NaN values"
      ]
    },
    {
      "cell_type": "markdown",
      "id": "a7de2674",
      "metadata": {
        "papermill": {
          "duration": 0.022884,
          "end_time": "2022-12-17T13:50:37.219757",
          "exception": false,
          "start_time": "2022-12-17T13:50:37.196873",
          "status": "completed"
        },
        "tags": [],
        "id": "a7de2674"
      },
      "source": [
        "### KNN Imputer"
      ]
    },
    {
      "cell_type": "code",
      "execution_count": 73,
      "id": "97277f8b",
      "metadata": {
        "execution": {
          "iopub.execute_input": "2022-12-17T13:50:37.268106Z",
          "iopub.status.busy": "2022-12-17T13:50:37.267662Z",
          "iopub.status.idle": "2022-12-17T13:50:37.274106Z",
          "shell.execute_reply": "2022-12-17T13:50:37.272921Z"
        },
        "papermill": {
          "duration": 0.033617,
          "end_time": "2022-12-17T13:50:37.276581",
          "exception": false,
          "start_time": "2022-12-17T13:50:37.242964",
          "status": "completed"
        },
        "tags": [],
        "colab": {
          "base_uri": "https://localhost:8080/",
          "height": 53
        },
        "id": "97277f8b",
        "outputId": "373a8fdf-cd86-4680-bd07-4545365f2b80"
      },
      "outputs": [
        {
          "output_type": "execute_result",
          "data": {
            "text/plain": [
              "'\\nfrom sklearn.impute import KNNImputer\\nimputer = KNNImputer()\\n\\nX_train = pd.DataFrame(imputer.fit_transform(X_train), index=X_train.index, columns=X_train.columns)\\nX_test  = pd.DataFrame(imputer.transform(X_test), index=X_test.index, columns=X_test.columns)\\n'"
            ],
            "application/vnd.google.colaboratory.intrinsic+json": {
              "type": "string"
            }
          },
          "metadata": {},
          "execution_count": 73
        }
      ],
      "source": [
        "'''\n",
        "from sklearn.impute import KNNImputer\n",
        "imputer = KNNImputer()\n",
        "\n",
        "X_train = pd.DataFrame(imputer.fit_transform(X_train), index=X_train.index, columns=X_train.columns)\n",
        "X_test  = pd.DataFrame(imputer.transform(X_test), index=X_test.index, columns=X_test.columns)\n",
        "'''"
      ]
    },
    {
      "cell_type": "markdown",
      "id": "68455f03",
      "metadata": {
        "papermill": {
          "duration": 0.022997,
          "end_time": "2022-12-17T13:50:37.322701",
          "exception": false,
          "start_time": "2022-12-17T13:50:37.299704",
          "status": "completed"
        },
        "tags": [],
        "id": "68455f03"
      },
      "source": [
        "### Simple Imputer"
      ]
    },
    {
      "cell_type": "code",
      "execution_count": 74,
      "id": "dc6f9708",
      "metadata": {
        "execution": {
          "iopub.execute_input": "2022-12-17T13:50:37.372110Z",
          "iopub.status.busy": "2022-12-17T13:50:37.371383Z",
          "iopub.status.idle": "2022-12-17T13:50:37.593198Z",
          "shell.execute_reply": "2022-12-17T13:50:37.592190Z"
        },
        "papermill": {
          "duration": 0.249821,
          "end_time": "2022-12-17T13:50:37.595884",
          "exception": false,
          "start_time": "2022-12-17T13:50:37.346063",
          "status": "completed"
        },
        "tags": [],
        "id": "dc6f9708"
      },
      "outputs": [],
      "source": [
        "\n",
        "from sklearn.impute import SimpleImputer\n",
        "imputer = SimpleImputer(missing_values=np.nan, strategy='most_frequent')\n",
        "\n",
        "X_train = pd.DataFrame(imputer.fit_transform(X_train), index=X_train.index, columns=X_train.columns)\n",
        "X_test  = pd.DataFrame(imputer.transform(X_test), index=X_test.index, columns=X_test.columns)\n"
      ]
    },
    {
      "cell_type": "markdown",
      "id": "bffb3f55",
      "metadata": {
        "papermill": {
          "duration": 0.02266,
          "end_time": "2022-12-17T13:50:37.641950",
          "exception": false,
          "start_time": "2022-12-17T13:50:37.619290",
          "status": "completed"
        },
        "tags": [],
        "id": "bffb3f55"
      },
      "source": [
        "## Outlier Elimination"
      ]
    },
    {
      "cell_type": "code",
      "execution_count": 75,
      "id": "cb08b144",
      "metadata": {
        "execution": {
          "iopub.execute_input": "2022-12-17T13:50:37.690134Z",
          "iopub.status.busy": "2022-12-17T13:50:37.689694Z",
          "iopub.status.idle": "2022-12-17T13:50:42.058631Z",
          "shell.execute_reply": "2022-12-17T13:50:42.057011Z"
        },
        "papermill": {
          "duration": 4.396346,
          "end_time": "2022-12-17T13:50:42.061395",
          "exception": false,
          "start_time": "2022-12-17T13:50:37.665049",
          "status": "completed"
        },
        "tags": [],
        "colab": {
          "base_uri": "https://localhost:8080/"
        },
        "id": "cb08b144",
        "outputId": "d2682ba0-e42a-4bb7-f85a-236a6184757b"
      },
      "outputs": [
        {
          "output_type": "stream",
          "name": "stdout",
          "text": [
            "Outliers:  (array([False,  True]), array([12352,    13]))\n",
            "(12365, 30)\n",
            "(12352, 30)\n"
          ]
        }
      ],
      "source": [
        "from sklearn.neighbors import LocalOutlierFactor\n",
        "\n",
        "df = pd.concat([X_train, y_train], axis=1)\n",
        "\n",
        "outlier = LocalOutlierFactor(algorithm='brute', contamination=1e-3, n_jobs=-1)\n",
        "outliers = outlier.fit_predict(df)\n",
        "outliers = (outliers < 0).tolist()\n",
        "print('Outliers: ', np.unique(outliers, return_counts=True))\n",
        "df.drop([i for i in range(len(outliers)) if outliers[i]], axis=0, inplace=True)\n",
        "\n",
        "print(X_train.shape)\n",
        "X_train = df.drop([target_feature], axis=1, inplace=False)\n",
        "y_train = df[target_feature]\n",
        "print(X_train.shape)"
      ]
    },
    {
      "cell_type": "markdown",
      "id": "6e94ba34",
      "metadata": {
        "papermill": {
          "duration": 0.023945,
          "end_time": "2022-12-17T13:50:42.109405",
          "exception": false,
          "start_time": "2022-12-17T13:50:42.085460",
          "status": "completed"
        },
        "tags": [],
        "id": "6e94ba34"
      },
      "source": [
        "## Scalers : Standard and Min-Max Scaler"
      ]
    },
    {
      "cell_type": "code",
      "execution_count": 76,
      "id": "7aff50c6",
      "metadata": {
        "execution": {
          "iopub.execute_input": "2022-12-17T13:50:42.161649Z",
          "iopub.status.busy": "2022-12-17T13:50:42.160550Z",
          "iopub.status.idle": "2022-12-17T13:50:42.167021Z",
          "shell.execute_reply": "2022-12-17T13:50:42.166121Z"
        },
        "papermill": {
          "duration": 0.035749,
          "end_time": "2022-12-17T13:50:42.169381",
          "exception": false,
          "start_time": "2022-12-17T13:50:42.133632",
          "status": "completed"
        },
        "tags": [],
        "colab": {
          "base_uri": "https://localhost:8080/",
          "height": 53
        },
        "id": "7aff50c6",
        "outputId": "3775d1e0-4182-4661-b23d-7f04e50cec64"
      },
      "outputs": [
        {
          "output_type": "execute_result",
          "data": {
            "text/plain": [
              "'\\nfrom sklearn.preprocessing import StandardScaler\\n\\nscaler = StandardScaler()\\nX_train = pd.DataFrame(scaler.fit_transform(X_train), index=X_train.index, columns=X_train.columns)\\nX_test = pd.DataFrame(scaler.fit_transform(X_test), index=X_test.index, columns=X_test.columns)\\n'"
            ],
            "application/vnd.google.colaboratory.intrinsic+json": {
              "type": "string"
            }
          },
          "metadata": {},
          "execution_count": 76
        }
      ],
      "source": [
        "'''\n",
        "from sklearn.preprocessing import StandardScaler\n",
        "\n",
        "scaler = StandardScaler()\n",
        "X_train = pd.DataFrame(scaler.fit_transform(X_train), index=X_train.index, columns=X_train.columns)\n",
        "X_test = pd.DataFrame(scaler.fit_transform(X_test), index=X_test.index, columns=X_test.columns)\n",
        "'''"
      ]
    },
    {
      "cell_type": "code",
      "execution_count": 77,
      "id": "94f0f526",
      "metadata": {
        "execution": {
          "iopub.execute_input": "2022-12-17T13:50:42.220831Z",
          "iopub.status.busy": "2022-12-17T13:50:42.220042Z",
          "iopub.status.idle": "2022-12-17T13:50:42.237632Z",
          "shell.execute_reply": "2022-12-17T13:50:42.236499Z"
        },
        "papermill": {
          "duration": 0.04741,
          "end_time": "2022-12-17T13:50:42.240262",
          "exception": false,
          "start_time": "2022-12-17T13:50:42.192852",
          "status": "completed"
        },
        "tags": [],
        "id": "94f0f526"
      },
      "outputs": [],
      "source": [
        "from sklearn.preprocessing import MinMaxScaler\n",
        "\n",
        "scaler = MinMaxScaler()\n",
        "X_train = pd.DataFrame(scaler.fit_transform(X_train), index=X_train.index, columns=X_train.columns)\n",
        "X_test = pd.DataFrame(scaler.fit_transform(X_test), index=X_test.index, columns=X_test.columns)"
      ]
    },
    {
      "cell_type": "markdown",
      "id": "77330546",
      "metadata": {
        "papermill": {
          "duration": 0.023512,
          "end_time": "2022-12-17T13:50:42.288051",
          "exception": false,
          "start_time": "2022-12-17T13:50:42.264539",
          "status": "completed"
        },
        "tags": [],
        "id": "77330546"
      },
      "source": [
        "## Polynomial Transform"
      ]
    },
    {
      "cell_type": "code",
      "execution_count": 78,
      "id": "126229f1",
      "metadata": {
        "execution": {
          "iopub.execute_input": "2022-12-17T13:50:42.339024Z",
          "iopub.status.busy": "2022-12-17T13:50:42.338299Z",
          "iopub.status.idle": "2022-12-17T13:50:42.344421Z",
          "shell.execute_reply": "2022-12-17T13:50:42.343434Z"
        },
        "papermill": {
          "duration": 0.034522,
          "end_time": "2022-12-17T13:50:42.346579",
          "exception": false,
          "start_time": "2022-12-17T13:50:42.312057",
          "status": "completed"
        },
        "tags": [],
        "colab": {
          "base_uri": "https://localhost:8080/",
          "height": 53
        },
        "id": "126229f1",
        "outputId": "c87d7f0b-4b2a-4c61-a140-23b76e53ef12"
      },
      "outputs": [
        {
          "output_type": "execute_result",
          "data": {
            "text/plain": [
              "'\\nfrom sklearn.preprocessing import PolynomialFeatures\\n\\npoly = PolynomialFeatures(degree=2, interaction_only=True, include_bias=True)\\nX_train = poly.fit_transform(X_train)\\nX_test = poly.transform(X_test)\\nX_train.shape\\n'"
            ],
            "application/vnd.google.colaboratory.intrinsic+json": {
              "type": "string"
            }
          },
          "metadata": {},
          "execution_count": 78
        }
      ],
      "source": [
        "'''\n",
        "from sklearn.preprocessing import PolynomialFeatures\n",
        "\n",
        "poly = PolynomialFeatures(degree=2, interaction_only=True, include_bias=True)\n",
        "X_train = poly.fit_transform(X_train)\n",
        "X_test = poly.transform(X_test)\n",
        "X_train.shape\n",
        "'''"
      ]
    },
    {
      "cell_type": "markdown",
      "id": "9a8005fe",
      "metadata": {
        "papermill": {
          "duration": 0.023462,
          "end_time": "2022-12-17T13:50:42.394121",
          "exception": false,
          "start_time": "2022-12-17T13:50:42.370659",
          "status": "completed"
        },
        "tags": [],
        "id": "9a8005fe"
      },
      "source": [
        "## Balancer"
      ]
    },
    {
      "cell_type": "code",
      "execution_count": 79,
      "id": "80b74ad3",
      "metadata": {
        "execution": {
          "iopub.execute_input": "2022-12-17T13:50:42.443576Z",
          "iopub.status.busy": "2022-12-17T13:50:42.442816Z",
          "iopub.status.idle": "2022-12-17T13:50:42.448877Z",
          "shell.execute_reply": "2022-12-17T13:50:42.448013Z"
        },
        "papermill": {
          "duration": 0.033499,
          "end_time": "2022-12-17T13:50:42.451190",
          "exception": false,
          "start_time": "2022-12-17T13:50:42.417691",
          "status": "completed"
        },
        "tags": [],
        "colab": {
          "base_uri": "https://localhost:8080/",
          "height": 53
        },
        "id": "80b74ad3",
        "outputId": "443f8c15-c958-42e6-a49d-102c1f22c1b4"
      },
      "outputs": [
        {
          "output_type": "execute_result",
          "data": {
            "text/plain": [
              "\"\\nfrom imblearn.over_sampling import RandomOverSampler\\n\\nover_sampler = RandomOverSampler(random_state=rng)\\nX_train, y_train = over_sampler.fit_resample(X_train, y_train)\\nprint('After balancing: ', X_train.shape)\\n\""
            ],
            "application/vnd.google.colaboratory.intrinsic+json": {
              "type": "string"
            }
          },
          "metadata": {},
          "execution_count": 79
        }
      ],
      "source": [
        "'''\n",
        "from imblearn.over_sampling import RandomOverSampler\n",
        "\n",
        "over_sampler = RandomOverSampler(random_state=rng)\n",
        "X_train, y_train = over_sampler.fit_resample(X_train, y_train)\n",
        "print('After balancing: ', X_train.shape)\n",
        "'''"
      ]
    },
    {
      "cell_type": "markdown",
      "id": "757994cc",
      "metadata": {
        "papermill": {
          "duration": 0.023723,
          "end_time": "2022-12-17T13:50:42.498826",
          "exception": false,
          "start_time": "2022-12-17T13:50:42.475103",
          "status": "completed"
        },
        "tags": [],
        "id": "757994cc"
      },
      "source": [
        "# Models"
      ]
    },
    {
      "cell_type": "code",
      "execution_count": 80,
      "id": "b1fbce5a",
      "metadata": {
        "execution": {
          "iopub.execute_input": "2022-12-17T13:50:42.548625Z",
          "iopub.status.busy": "2022-12-17T13:50:42.547880Z",
          "iopub.status.idle": "2022-12-17T13:50:42.553140Z",
          "shell.execute_reply": "2022-12-17T13:50:42.552229Z"
        },
        "papermill": {
          "duration": 0.03278,
          "end_time": "2022-12-17T13:50:42.555468",
          "exception": false,
          "start_time": "2022-12-17T13:50:42.522688",
          "status": "completed"
        },
        "tags": [],
        "id": "b1fbce5a"
      },
      "outputs": [],
      "source": [
        "from sklearn import model_selection\n",
        "cv_split = model_selection.ShuffleSplit(n_splits=10, test_size=0.30, train_size=0.60, random_state=rng)"
      ]
    },
    {
      "cell_type": "code",
      "execution_count": 81,
      "id": "fd129e81",
      "metadata": {
        "execution": {
          "iopub.execute_input": "2022-12-17T13:50:42.605213Z",
          "iopub.status.busy": "2022-12-17T13:50:42.604672Z",
          "iopub.status.idle": "2022-12-17T13:50:42.877131Z",
          "shell.execute_reply": "2022-12-17T13:50:42.875795Z"
        },
        "papermill": {
          "duration": 0.300547,
          "end_time": "2022-12-17T13:50:42.879955",
          "exception": false,
          "start_time": "2022-12-17T13:50:42.579408",
          "status": "completed"
        },
        "tags": [],
        "id": "fd129e81"
      },
      "outputs": [],
      "source": [
        "from xgboost import XGBClassifier\n",
        "\n",
        "from sklearn import dummy\n",
        "from sklearn import discriminant_analysis\n",
        "from sklearn import ensemble\n",
        "from sklearn import gaussian_process\n",
        "from sklearn import linear_model\n",
        "from sklearn import naive_bayes\n",
        "from sklearn import neighbors\n",
        "from sklearn import neural_network\n",
        "from sklearn import svm\n",
        "from sklearn import tree"
      ]
    },
    {
      "cell_type": "code",
      "execution_count": 82,
      "id": "4640aedd",
      "metadata": {
        "execution": {
          "iopub.execute_input": "2022-12-17T13:50:42.929884Z",
          "iopub.status.busy": "2022-12-17T13:50:42.929395Z",
          "iopub.status.idle": "2022-12-17T13:50:42.937149Z",
          "shell.execute_reply": "2022-12-17T13:50:42.936290Z"
        },
        "papermill": {
          "duration": 0.035521,
          "end_time": "2022-12-17T13:50:42.939416",
          "exception": false,
          "start_time": "2022-12-17T13:50:42.903895",
          "status": "completed"
        },
        "tags": [],
        "colab": {
          "base_uri": "https://localhost:8080/",
          "height": 123
        },
        "id": "4640aedd",
        "outputId": "86b2698a-29bb-4760-f036-15130606b816"
      },
      "outputs": [
        {
          "output_type": "execute_result",
          "data": {
            "text/plain": [
              "\"\\nmodels = [\\n    dummy.DummyClassifier(strategy='most_frequent'),\\n\\n    discriminant_analysis.LinearDiscriminantAnalysis(),\\n    #discriminant_analysis.QuadraticDiscriminantAnalysis(),\\n\\n    #ensemble.AdaBoostClassifier(),\\n    ensemble.BaggingClassifier(),\\n    #ensemble.ExtraTreesClassifier(),\\n    ensemble.GradientBoostingClassifier(),\\n    ensemble.RandomForestClassifier(),\\n\\n    #gaussian_process.GaussianProcessClassifier(),\\n    \\n    linear_model.LogisticRegressionCV(),\\n    #linear_model.PassiveAggressiveClassifier(),\\n    linear_model.Perceptron(),\\n    #linear_model.RidgeClassifierCV(),\\n    linear_model.SGDClassifier(),\\n\\n    #naive_bayes.BernoulliNB(),\\n    #naive_bayes.GaussianNB(),\\n\\n    neighbors.KNeighborsClassifier(),\\n    \\n    neural_network.MLPClassifier(),\\n\\n    #svm.LinearSVC(),\\n    #svm.NuSVC(probability=True),\\n    #svm.SVC(probability=True),\\n\\n    tree.DecisionTreeClassifier(),\\n    #tree.ExtraTreeClassifier(),\\n\\n    XGBClassifier()\\n]\\n\\n# Model Metrics table\\nmetrics = pd.DataFrame(columns=['Name', 'Parameters', 'Test_Score', 'Test_Score_3SD', 'Fit_Time'])\\nmodel_predictions = pd.DataFrame(columns=[model.__class__.__name__ for model in models])\\n\\nfor i in range(len(models)):\\n    cv_results = model_selection.cross_validate(models[i], X_train, y_train, cv=cv_split)\\n\\n    metrics.loc[i, 'Name']           = models[i].__class__.__name__\\n    metrics.loc[i, 'Parameters']     = str(models[i].get_params())\\n    metrics.loc[i, 'Test_Score']     = cv_results['test_score'].mean()   \\n    metrics.loc[i, 'Test_Score_3SD'] = cv_results['test_score'].mean() - 3 * cv_results['test_score'].std()\\n    metrics.loc[i, 'Fit_Time']       = cv_results['fit_time'].mean()\\n    \\n    models[i].fit(X_train, y_train)\\n    model_predictions[models[i].__class__.__name__] = models[i].predict(X_train)\\n\""
            ],
            "application/vnd.google.colaboratory.intrinsic+json": {
              "type": "string"
            }
          },
          "metadata": {},
          "execution_count": 82
        }
      ],
      "source": [
        "'''\n",
        "models = [\n",
        "    dummy.DummyClassifier(strategy='most_frequent'),\n",
        "\n",
        "    discriminant_analysis.LinearDiscriminantAnalysis(),\n",
        "    #discriminant_analysis.QuadraticDiscriminantAnalysis(),\n",
        "\n",
        "    #ensemble.AdaBoostClassifier(),\n",
        "    ensemble.BaggingClassifier(),\n",
        "    #ensemble.ExtraTreesClassifier(),\n",
        "    ensemble.GradientBoostingClassifier(),\n",
        "    ensemble.RandomForestClassifier(),\n",
        "\n",
        "    #gaussian_process.GaussianProcessClassifier(),\n",
        "    \n",
        "    linear_model.LogisticRegressionCV(),\n",
        "    #linear_model.PassiveAggressiveClassifier(),\n",
        "    linear_model.Perceptron(),\n",
        "    #linear_model.RidgeClassifierCV(),\n",
        "    linear_model.SGDClassifier(),\n",
        "\n",
        "    #naive_bayes.BernoulliNB(),\n",
        "    #naive_bayes.GaussianNB(),\n",
        "\n",
        "    neighbors.KNeighborsClassifier(),\n",
        "    \n",
        "    neural_network.MLPClassifier(),\n",
        "\n",
        "    #svm.LinearSVC(),\n",
        "    #svm.NuSVC(probability=True),\n",
        "    #svm.SVC(probability=True),\n",
        "\n",
        "    tree.DecisionTreeClassifier(),\n",
        "    #tree.ExtraTreeClassifier(),\n",
        "\n",
        "    XGBClassifier()\n",
        "]\n",
        "\n",
        "# Model Metrics table\n",
        "metrics = pd.DataFrame(columns=['Name', 'Parameters', 'Test_Score', 'Test_Score_3SD', 'Fit_Time'])\n",
        "model_predictions = pd.DataFrame(columns=[model.__class__.__name__ for model in models])\n",
        "\n",
        "for i in range(len(models)):\n",
        "    cv_results = model_selection.cross_validate(models[i], X_train, y_train, cv=cv_split)\n",
        "\n",
        "    metrics.loc[i, 'Name']           = models[i].__class__.__name__\n",
        "    metrics.loc[i, 'Parameters']     = str(models[i].get_params())\n",
        "    metrics.loc[i, 'Test_Score']     = cv_results['test_score'].mean()   \n",
        "    metrics.loc[i, 'Test_Score_3SD'] = cv_results['test_score'].mean() - 3 * cv_results['test_score'].std()\n",
        "    metrics.loc[i, 'Fit_Time']       = cv_results['fit_time'].mean()\n",
        "    \n",
        "    models[i].fit(X_train, y_train)\n",
        "    model_predictions[models[i].__class__.__name__] = models[i].predict(X_train)\n",
        "'''"
      ]
    },
    {
      "cell_type": "code",
      "execution_count": 83,
      "id": "0dde1ef6",
      "metadata": {
        "execution": {
          "iopub.execute_input": "2022-12-17T13:50:42.990659Z",
          "iopub.status.busy": "2022-12-17T13:50:42.989865Z",
          "iopub.status.idle": "2022-12-17T13:50:42.996784Z",
          "shell.execute_reply": "2022-12-17T13:50:42.995689Z"
        },
        "papermill": {
          "duration": 0.035304,
          "end_time": "2022-12-17T13:50:42.999027",
          "exception": false,
          "start_time": "2022-12-17T13:50:42.963723",
          "status": "completed"
        },
        "tags": [],
        "colab": {
          "base_uri": "https://localhost:8080/",
          "height": 35
        },
        "id": "0dde1ef6",
        "outputId": "b3d60737-8918-4194-81e4-28aad92f290d"
      },
      "outputs": [
        {
          "output_type": "execute_result",
          "data": {
            "text/plain": [
              "\"\\nsort_metric = 'Test_Score_3SD'\\n\\nmetrics.sort_values(by=[sort_metric], ascending=False, inplace=True)\\nmetrics\\n\""
            ],
            "application/vnd.google.colaboratory.intrinsic+json": {
              "type": "string"
            }
          },
          "metadata": {},
          "execution_count": 83
        }
      ],
      "source": [
        "'''\n",
        "sort_metric = 'Test_Score_3SD'\n",
        "\n",
        "metrics.sort_values(by=[sort_metric], ascending=False, inplace=True)\n",
        "metrics\n",
        "'''"
      ]
    },
    {
      "cell_type": "markdown",
      "id": "35011e27",
      "metadata": {
        "papermill": {
          "duration": 0.023939,
          "end_time": "2022-12-17T13:50:43.047653",
          "exception": false,
          "start_time": "2022-12-17T13:50:43.023714",
          "status": "completed"
        },
        "tags": [],
        "id": "35011e27"
      },
      "source": [
        "## Correlation b/w models"
      ]
    },
    {
      "cell_type": "code",
      "execution_count": 84,
      "id": "5019f188",
      "metadata": {
        "execution": {
          "iopub.execute_input": "2022-12-17T13:50:43.099299Z",
          "iopub.status.busy": "2022-12-17T13:50:43.098412Z",
          "iopub.status.idle": "2022-12-17T13:50:43.106241Z",
          "shell.execute_reply": "2022-12-17T13:50:43.104883Z"
        },
        "papermill": {
          "duration": 0.035531,
          "end_time": "2022-12-17T13:50:43.108609",
          "exception": false,
          "start_time": "2022-12-17T13:50:43.073078",
          "status": "completed"
        },
        "tags": [],
        "colab": {
          "base_uri": "https://localhost:8080/",
          "height": 35
        },
        "id": "5019f188",
        "outputId": "9188cffa-c4c5-46e5-b524-eb955f0908fc"
      },
      "outputs": [
        {
          "output_type": "execute_result",
          "data": {
            "text/plain": [
              "'\\nplt.figure(figsize=(15, 12))\\nsns.heatmap(model_predictions.corr(), cmap=\"inferno\", square=True, annot=True)\\nplt.show()\\n'"
            ],
            "application/vnd.google.colaboratory.intrinsic+json": {
              "type": "string"
            }
          },
          "metadata": {},
          "execution_count": 84
        }
      ],
      "source": [
        "'''\n",
        "plt.figure(figsize=(15, 12))\n",
        "sns.heatmap(model_predictions.corr(), cmap=\"inferno\", square=True, annot=True)\n",
        "plt.show()\n",
        "'''"
      ]
    },
    {
      "cell_type": "markdown",
      "id": "e85990a0",
      "metadata": {
        "papermill": {
          "duration": 0.024002,
          "end_time": "2022-12-17T13:50:43.157157",
          "exception": false,
          "start_time": "2022-12-17T13:50:43.133155",
          "status": "completed"
        },
        "tags": [],
        "id": "e85990a0"
      },
      "source": [
        "## Baseline"
      ]
    },
    {
      "cell_type": "code",
      "execution_count": 85,
      "id": "75a07a49",
      "metadata": {
        "execution": {
          "iopub.execute_input": "2022-12-17T13:50:43.208639Z",
          "iopub.status.busy": "2022-12-17T13:50:43.207360Z",
          "iopub.status.idle": "2022-12-17T13:50:43.212395Z",
          "shell.execute_reply": "2022-12-17T13:50:43.211482Z"
        },
        "papermill": {
          "duration": 0.032709,
          "end_time": "2022-12-17T13:50:43.214642",
          "exception": false,
          "start_time": "2022-12-17T13:50:43.181933",
          "status": "completed"
        },
        "tags": [],
        "id": "75a07a49"
      },
      "outputs": [],
      "source": [
        "from sklearn.model_selection import GridSearchCV"
      ]
    },
    {
      "cell_type": "code",
      "execution_count": 86,
      "id": "b47b35bf",
      "metadata": {
        "execution": {
          "iopub.execute_input": "2022-12-17T13:50:43.265024Z",
          "iopub.status.busy": "2022-12-17T13:50:43.264063Z",
          "iopub.status.idle": "2022-12-17T13:50:43.269705Z",
          "shell.execute_reply": "2022-12-17T13:50:43.268420Z"
        },
        "papermill": {
          "duration": 0.033642,
          "end_time": "2022-12-17T13:50:43.272371",
          "exception": false,
          "start_time": "2022-12-17T13:50:43.238729",
          "status": "completed"
        },
        "tags": [],
        "id": "b47b35bf"
      },
      "outputs": [],
      "source": [
        "from sklearn.dummy import DummyClassifier\n",
        "\n",
        "clf_dum = DummyClassifier(strategy='most_frequent')"
      ]
    },
    {
      "cell_type": "markdown",
      "id": "ff089c9d",
      "metadata": {
        "papermill": {
          "duration": 0.031738,
          "end_time": "2022-12-17T13:50:43.334041",
          "exception": false,
          "start_time": "2022-12-17T13:50:43.302303",
          "status": "completed"
        },
        "tags": [],
        "id": "ff089c9d"
      },
      "source": [
        "## Support Vector Machine"
      ]
    },
    {
      "cell_type": "code",
      "execution_count": 87,
      "id": "74578059",
      "metadata": {
        "execution": {
          "iopub.execute_input": "2022-12-17T13:50:43.391224Z",
          "iopub.status.busy": "2022-12-17T13:50:43.390636Z",
          "iopub.status.idle": "2022-12-17T13:50:43.398129Z",
          "shell.execute_reply": "2022-12-17T13:50:43.396969Z"
        },
        "papermill": {
          "duration": 0.036854,
          "end_time": "2022-12-17T13:50:43.400837",
          "exception": false,
          "start_time": "2022-12-17T13:50:43.363983",
          "status": "completed"
        },
        "tags": [],
        "id": "74578059"
      },
      "outputs": [],
      "source": [
        "estimator = svm.SVC(random_state=rng)\n",
        "param_grid = {'C': [0.0001, 1, 0.5],\n",
        "              'kernel': ['linear', 'rbf']}\n",
        "'''\n",
        "clf = GridSearchCV(estimator, param_grid, n_jobs=-1, cv=cv_split, scoring='f1_macro')\n",
        "clf.fit(X_train, y_train)\n",
        "clf.best_params_\n",
        "'''\n",
        "clf_svc = svm.SVC(C=0.0001, kernel='rbf', random_state=rng)"
      ]
    },
    {
      "cell_type": "markdown",
      "id": "a9d3fcc3",
      "metadata": {
        "papermill": {
          "duration": 0.028565,
          "end_time": "2022-12-17T13:50:43.454507",
          "exception": false,
          "start_time": "2022-12-17T13:50:43.425942",
          "status": "completed"
        },
        "tags": [],
        "id": "a9d3fcc3"
      },
      "source": [
        "## K Nearest Neighbors"
      ]
    },
    {
      "cell_type": "code",
      "execution_count": 88,
      "id": "687b5012",
      "metadata": {
        "execution": {
          "iopub.execute_input": "2022-12-17T13:50:43.507135Z",
          "iopub.status.busy": "2022-12-17T13:50:43.506264Z",
          "iopub.status.idle": "2022-12-17T13:50:43.512833Z",
          "shell.execute_reply": "2022-12-17T13:50:43.511508Z"
        },
        "papermill": {
          "duration": 0.036334,
          "end_time": "2022-12-17T13:50:43.515887",
          "exception": false,
          "start_time": "2022-12-17T13:50:43.479553",
          "status": "completed"
        },
        "tags": [],
        "id": "687b5012"
      },
      "outputs": [],
      "source": [
        "estimator = neighbors.KNeighborsClassifier()\n",
        "param_grid = {'n_neighbors': [3,5],\n",
        "              'weights': ['uniform', 'distance'],\n",
        "              'algorithm': ['ball_tree','brute','auto']}\n",
        "'''\n",
        "clf = GridSearchCV(estimator, param_grid, n_jobs=-1, cv=cv_split, scoring='f1_macro')\n",
        "clf.fit(X_train, y_train)\n",
        "clf.best_params_\n",
        "'''\n",
        "clf_knn = neighbors.KNeighborsClassifier(algorithm='brute', n_neighbors=5, weights='uniform') "
      ]
    },
    {
      "cell_type": "markdown",
      "id": "fd7b4522",
      "metadata": {
        "papermill": {
          "duration": 0.035241,
          "end_time": "2022-12-17T13:50:43.588125",
          "exception": false,
          "start_time": "2022-12-17T13:50:43.552884",
          "status": "completed"
        },
        "tags": [],
        "id": "fd7b4522"
      },
      "source": [
        "## Neural Network: Multi-Layer Perceptron "
      ]
    },
    {
      "cell_type": "code",
      "execution_count": 89,
      "id": "edac1dcb",
      "metadata": {
        "execution": {
          "iopub.execute_input": "2022-12-17T13:50:43.645088Z",
          "iopub.status.busy": "2022-12-17T13:50:43.644600Z",
          "iopub.status.idle": "2022-12-17T13:50:43.652195Z",
          "shell.execute_reply": "2022-12-17T13:50:43.650975Z"
        },
        "papermill": {
          "duration": 0.035808,
          "end_time": "2022-12-17T13:50:43.654605",
          "exception": false,
          "start_time": "2022-12-17T13:50:43.618797",
          "status": "completed"
        },
        "tags": [],
        "id": "edac1dcb"
      },
      "outputs": [],
      "source": [
        "estimator = neural_network.MLPClassifier(random_state=rng)\n",
        "param_grid = {'activation': ['logistic', 'relu'],\n",
        "              'solver': ['adam', 'lbfgs'],\n",
        "              'max_iter': [600, 700]}\n",
        "'''\n",
        "clf = GridSearchCV(estimator, param_grid, n_jobs=-1, cv=cv_split, scoring='f1_macro')\n",
        "clf.fit(X_train, y_train)\n",
        "clf.best_params_\n",
        "'''\n",
        "clf_mlp = neural_network.MLPClassifier(solver='adam', activation='logistic', max_iter=700, random_state=rng)"
      ]
    },
    {
      "cell_type": "markdown",
      "id": "9293ee59",
      "metadata": {
        "papermill": {
          "duration": 0.031265,
          "end_time": "2022-12-17T13:50:43.716372",
          "exception": false,
          "start_time": "2022-12-17T13:50:43.685107",
          "status": "completed"
        },
        "tags": [],
        "id": "9293ee59"
      },
      "source": [
        "## Stochastic Gradient Descent"
      ]
    },
    {
      "cell_type": "code",
      "execution_count": 90,
      "id": "5ca8dc8f",
      "metadata": {
        "execution": {
          "iopub.execute_input": "2022-12-17T13:50:43.768443Z",
          "iopub.status.busy": "2022-12-17T13:50:43.767633Z",
          "iopub.status.idle": "2022-12-17T13:50:43.774650Z",
          "shell.execute_reply": "2022-12-17T13:50:43.773817Z"
        },
        "papermill": {
          "duration": 0.03485,
          "end_time": "2022-12-17T13:50:43.777043",
          "exception": false,
          "start_time": "2022-12-17T13:50:43.742193",
          "status": "completed"
        },
        "tags": [],
        "id": "5ca8dc8f"
      },
      "outputs": [],
      "source": [
        "estimator = linear_model.SGDClassifier(random_state=rng)\n",
        "param_grid = {'loss': ['modified_huber','perceptron'],\n",
        "              'eta0': [0.01, 0.02],\n",
        "              'penalty': ['l1', 'l2'],\n",
        "              'learning_rate': ['optimal', 'adaptive']}\n",
        "\n",
        "'''\n",
        "clf = GridSearchCV(estimator, param_grid, n_jobs=-1, cv=cv_split, scoring='f1_macro')\n",
        "clf.fit(X_train, y_train)\n",
        "clf.best_params_\n",
        "'''\n",
        "\n",
        "clf_sgd = linear_model.SGDClassifier(eta0=0.01, learning_rate='adaptive', loss='modified_huber', penalty='l2', random_state=rng)"
      ]
    },
    {
      "cell_type": "markdown",
      "id": "fe43a795",
      "metadata": {
        "papermill": {
          "duration": 0.023465,
          "end_time": "2022-12-17T13:50:43.824389",
          "exception": false,
          "start_time": "2022-12-17T13:50:43.800924",
          "status": "completed"
        },
        "tags": [],
        "id": "fe43a795"
      },
      "source": [
        "## XGB Classifier"
      ]
    },
    {
      "cell_type": "code",
      "execution_count": 91,
      "id": "84141ea8",
      "metadata": {
        "execution": {
          "iopub.execute_input": "2022-12-17T13:50:43.874548Z",
          "iopub.status.busy": "2022-12-17T13:50:43.873698Z",
          "iopub.status.idle": "2022-12-17T13:50:43.882552Z",
          "shell.execute_reply": "2022-12-17T13:50:43.881232Z"
        },
        "papermill": {
          "duration": 0.036941,
          "end_time": "2022-12-17T13:50:43.885148",
          "exception": false,
          "start_time": "2022-12-17T13:50:43.848207",
          "status": "completed"
        },
        "tags": [],
        "id": "84141ea8"
      },
      "outputs": [],
      "source": [
        "estimator = XGBClassifier(random_state=rng)\n",
        "param_grid = {\n",
        "    'n_estimators': [100, 200, 500, 1000],\n",
        "    'max_depth': [1,2,3,4,5,6],\n",
        "    'learning_rate':[0.001,0.01,0.1,1,10],\n",
        "    'subsample':[0.3,0.5,0.7],\n",
        "    'colsample_bytree':[0.3,0.5,0.7],\n",
        "    'reg_alpha ':[0.05,0.1,0.3,1,5],\n",
        "    'gamma':[0,1,5]\n",
        "}\n",
        "\n",
        "'''\n",
        "clf = GridSearchCV(estimator, param_grid, n_jobs=-1, cv=3, scoring='f1_macro')\n",
        "clf.fit(X_train, y_train)\n",
        "print(clf.best_params_)\n",
        "'''\n",
        "\n",
        "xgboost = XGBClassifier(subsample=0.7,reg_alpha=0.05,n_estimators=200,max_depth=5,learning_rate=0.1,gamma=0,colsample_bytree=0.7, nthread=-1,random_state=rng)\n"
      ]
    },
    {
      "cell_type": "markdown",
      "id": "d664cfdb",
      "metadata": {
        "papermill": {
          "duration": 0.024094,
          "end_time": "2022-12-17T13:50:43.933175",
          "exception": false,
          "start_time": "2022-12-17T13:50:43.909081",
          "status": "completed"
        },
        "tags": [],
        "id": "d664cfdb"
      },
      "source": [
        "## Gradient Boosting"
      ]
    },
    {
      "cell_type": "code",
      "execution_count": 92,
      "id": "697e4a40",
      "metadata": {
        "execution": {
          "iopub.execute_input": "2022-12-17T13:50:43.984225Z",
          "iopub.status.busy": "2022-12-17T13:50:43.983242Z",
          "iopub.status.idle": "2022-12-17T13:50:43.990709Z",
          "shell.execute_reply": "2022-12-17T13:50:43.989633Z"
        },
        "papermill": {
          "duration": 0.035812,
          "end_time": "2022-12-17T13:50:43.993118",
          "exception": false,
          "start_time": "2022-12-17T13:50:43.957306",
          "status": "completed"
        },
        "tags": [],
        "id": "697e4a40"
      },
      "outputs": [],
      "source": [
        "estimator = ensemble.GradientBoostingClassifier(random_state=rng)\n",
        "param_grid = {'n_estimators': [100, 200, 300],\n",
        "              'min_samples_leaf': [1, 2, 3, 4]}\n",
        "\n",
        "'''\n",
        "clf = GridSearchCV(estimator, param_grid, n_jobs=-1, cv=cv_split, scoring='f1_macro')\n",
        "clf.fit(X_train, y_train)\n",
        "print(clf.best_params_)\n",
        "'''\n",
        "\n",
        "clf_gb = ensemble.GradientBoostingClassifier(min_samples_leaf=4, n_estimators=200, random_state=rng)"
      ]
    },
    {
      "cell_type": "markdown",
      "id": "e7bf70d1",
      "metadata": {
        "papermill": {
          "duration": 0.023448,
          "end_time": "2022-12-17T13:50:44.040377",
          "exception": false,
          "start_time": "2022-12-17T13:50:44.016929",
          "status": "completed"
        },
        "tags": [],
        "id": "e7bf70d1"
      },
      "source": [
        "## Random Forest "
      ]
    },
    {
      "cell_type": "code",
      "execution_count": 93,
      "id": "f5d5a321",
      "metadata": {
        "execution": {
          "iopub.execute_input": "2022-12-17T13:50:44.093111Z",
          "iopub.status.busy": "2022-12-17T13:50:44.092289Z",
          "iopub.status.idle": "2022-12-17T13:50:44.101062Z",
          "shell.execute_reply": "2022-12-17T13:50:44.099948Z"
        },
        "papermill": {
          "duration": 0.037616,
          "end_time": "2022-12-17T13:50:44.103965",
          "exception": false,
          "start_time": "2022-12-17T13:50:44.066349",
          "status": "completed"
        },
        "tags": [],
        "id": "f5d5a321"
      },
      "outputs": [],
      "source": [
        "from sklearn.model_selection import RandomizedSearchCV\n",
        "\n",
        "estimator = ensemble.RandomForestClassifier(random_state=rng)\n",
        "params_grid = {\n",
        "    'n_estimators':[100,200,300],\n",
        "    'criterion':['gini','entropy'],\n",
        "    'min_samples_split':[5,10,25],\n",
        "    'max_samples':[0.3,0.5,0.7], \n",
        "    'min_samples_leaf': [1, 2, 3, 4]\n",
        "}\n",
        "\n",
        "'''\n",
        "clf = GridSearchCV(estimator, param_grid, n_jobs=-1, cv=cv_split, scoring='f1_macro')\n",
        "clf.fit(X_train, y_train)\n",
        "print(clf.best_params_)\n",
        "'''\n",
        "\n",
        "clf_rf = ensemble.RandomForestClassifier(n_estimators=300, min_samples_split=10, max_samples=0.5, criterion='entropy', random_state=rng, n_jobs=-1)"
      ]
    },
    {
      "cell_type": "markdown",
      "id": "8dda707f",
      "metadata": {
        "papermill": {
          "duration": 0.024101,
          "end_time": "2022-12-17T13:50:44.152247",
          "exception": false,
          "start_time": "2022-12-17T13:50:44.128146",
          "status": "completed"
        },
        "tags": [],
        "id": "8dda707f"
      },
      "source": [
        "## Bagging"
      ]
    },
    {
      "cell_type": "code",
      "execution_count": 94,
      "id": "3e2bbd21",
      "metadata": {
        "execution": {
          "iopub.execute_input": "2022-12-17T13:50:44.203100Z",
          "iopub.status.busy": "2022-12-17T13:50:44.202251Z",
          "iopub.status.idle": "2022-12-17T13:50:44.209768Z",
          "shell.execute_reply": "2022-12-17T13:50:44.208637Z"
        },
        "papermill": {
          "duration": 0.036065,
          "end_time": "2022-12-17T13:50:44.212290",
          "exception": false,
          "start_time": "2022-12-17T13:50:44.176225",
          "status": "completed"
        },
        "tags": [],
        "id": "3e2bbd21"
      },
      "outputs": [],
      "source": [
        "estimator = ensemble.BaggingClassifier(random_state=rng)\n",
        "param_grid = {'base_estimator': [clf_svc, clf_rf],\n",
        "              'n_estimators': [10, 20],\n",
        "              'max_features': [0.05, 0.5, 1]}\n",
        "'''\n",
        "clf = GridSearchCV(estimator, param_grid, n_jobs=-1, cv=cv_split, scoring='f1_macro')\n",
        "clf.fit(X_train, y_train)\n",
        "clf.best_params_\n",
        "'''\n",
        "clf_bag = ensemble.BaggingClassifier(base_estimator=clf_rf, n_estimators=20, max_features=0.5, random_state=rng)"
      ]
    },
    {
      "cell_type": "markdown",
      "id": "dc9d6404",
      "metadata": {
        "papermill": {
          "duration": 0.023594,
          "end_time": "2022-12-17T13:50:44.262420",
          "exception": false,
          "start_time": "2022-12-17T13:50:44.238826",
          "status": "completed"
        },
        "tags": [],
        "id": "dc9d6404"
      },
      "source": [
        "## Perceptron"
      ]
    },
    {
      "cell_type": "code",
      "execution_count": 95,
      "id": "fc802b96",
      "metadata": {
        "execution": {
          "iopub.execute_input": "2022-12-17T13:50:44.312965Z",
          "iopub.status.busy": "2022-12-17T13:50:44.312523Z",
          "iopub.status.idle": "2022-12-17T13:50:44.318564Z",
          "shell.execute_reply": "2022-12-17T13:50:44.317153Z"
        },
        "papermill": {
          "duration": 0.034875,
          "end_time": "2022-12-17T13:50:44.321032",
          "exception": false,
          "start_time": "2022-12-17T13:50:44.286157",
          "status": "completed"
        },
        "tags": [],
        "id": "fc802b96"
      },
      "outputs": [],
      "source": [
        "estimator = linear_model.Perceptron(random_state=rng)\n",
        "param_grid = {'penalty':['l2','l1','elasticnet']}\n",
        "\n",
        "'''\n",
        "clf = GridSearchCV(estimator, param_grid, n_jobs=-1, cv=cv_split, scoring='f1_macro')\n",
        "clf.fit(X_train, y_train)\n",
        "clf.best_params_\n",
        "'''\n",
        "\n",
        "clf_pc = linear_model.Perceptron(penalty='l1', random_state=rng)"
      ]
    },
    {
      "cell_type": "markdown",
      "id": "34b57e1c",
      "metadata": {
        "papermill": {
          "duration": 0.023967,
          "end_time": "2022-12-17T13:50:44.369687",
          "exception": false,
          "start_time": "2022-12-17T13:50:44.345720",
          "status": "completed"
        },
        "tags": [],
        "id": "34b57e1c"
      },
      "source": [
        "## Voting Classifier"
      ]
    },
    {
      "cell_type": "code",
      "execution_count": 96,
      "id": "d6a20496",
      "metadata": {
        "execution": {
          "iopub.execute_input": "2022-12-17T13:50:44.420027Z",
          "iopub.status.busy": "2022-12-17T13:50:44.419157Z",
          "iopub.status.idle": "2022-12-17T13:50:44.425721Z",
          "shell.execute_reply": "2022-12-17T13:50:44.424813Z"
        },
        "papermill": {
          "duration": 0.03483,
          "end_time": "2022-12-17T13:50:44.428191",
          "exception": false,
          "start_time": "2022-12-17T13:50:44.393361",
          "status": "completed"
        },
        "tags": [],
        "id": "d6a20496"
      },
      "outputs": [],
      "source": [
        "from sklearn.ensemble import VotingClassifier\n",
        "\n",
        "model_vote = VotingClassifier(voting='hard', estimators=[\n",
        "    ('rfc', clf_rf),\n",
        "    ('xgb', xgboost)\n",
        "])"
      ]
    },
    {
      "cell_type": "markdown",
      "id": "f49b35c5",
      "metadata": {
        "papermill": {
          "duration": 0.024651,
          "end_time": "2022-12-17T13:50:44.476970",
          "exception": false,
          "start_time": "2022-12-17T13:50:44.452319",
          "status": "completed"
        },
        "tags": [],
        "id": "f49b35c5"
      },
      "source": [
        "## Feature Selection"
      ]
    },
    {
      "cell_type": "markdown",
      "id": "f8fce892",
      "metadata": {
        "papermill": {
          "duration": 0.024327,
          "end_time": "2022-12-17T13:50:44.525349",
          "exception": false,
          "start_time": "2022-12-17T13:50:44.501022",
          "status": "completed"
        },
        "tags": [],
        "id": "f8fce892"
      },
      "source": [
        "### Recursive Feature Elimination"
      ]
    },
    {
      "cell_type": "code",
      "execution_count": 97,
      "id": "3d860927",
      "metadata": {
        "execution": {
          "iopub.execute_input": "2022-12-17T13:50:44.576104Z",
          "iopub.status.busy": "2022-12-17T13:50:44.575316Z",
          "iopub.status.idle": "2022-12-17T13:50:44.583315Z",
          "shell.execute_reply": "2022-12-17T13:50:44.581787Z"
        },
        "papermill": {
          "duration": 0.036052,
          "end_time": "2022-12-17T13:50:44.585834",
          "exception": false,
          "start_time": "2022-12-17T13:50:44.549782",
          "status": "completed"
        },
        "tags": [],
        "colab": {
          "base_uri": "https://localhost:8080/",
          "height": 87
        },
        "id": "3d860927",
        "outputId": "8257f947-1e7e-4f3c-cfeb-282468337414"
      },
      "outputs": [
        {
          "output_type": "execute_result",
          "data": {
            "text/plain": [
              "\"\\nfrom sklearn import feature_selection\\n\\nfeatures = X_train.columns\\n\\nrfe = feature_selection.RFECV(clf_rf, scoring='f1_macro', cv=5)\\nrfe.fit(X_train, y_train)\\nrfe_cols = X_train.columns.values[rfe.get_support()]\\n\\nprint('Remaining features: ', rfe_cols)\\n\\nrfe_results = model_selection.cross_validate(clf_rf, X_train, y_train, cv=5)\\nprint('Test_Score: '  , rfe_results['test_score'].mean())   \\nprint('Test_Score_3SD', rfe_results['test_score'].mean() - 3 * rfe_results['test_score'].std())\\n\\nX_train = X_train[rfe_cols]\\nX_test  = X_test[rfe_cols]\\n\""
            ],
            "application/vnd.google.colaboratory.intrinsic+json": {
              "type": "string"
            }
          },
          "metadata": {},
          "execution_count": 97
        }
      ],
      "source": [
        "'''\n",
        "from sklearn import feature_selection\n",
        "\n",
        "features = X_train.columns\n",
        "\n",
        "rfe = feature_selection.RFECV(clf_rf, scoring='f1_macro', cv=5)\n",
        "rfe.fit(X_train, y_train)\n",
        "rfe_cols = X_train.columns.values[rfe.get_support()]\n",
        "\n",
        "print('Remaining features: ', rfe_cols)\n",
        "\n",
        "rfe_results = model_selection.cross_validate(clf_rf, X_train, y_train, cv=5)\n",
        "print('Test_Score: '  , rfe_results['test_score'].mean())   \n",
        "print('Test_Score_3SD', rfe_results['test_score'].mean() - 3 * rfe_results['test_score'].std())\n",
        "\n",
        "X_train = X_train[rfe_cols]\n",
        "X_test  = X_test[rfe_cols]\n",
        "'''"
      ]
    },
    {
      "cell_type": "markdown",
      "id": "92b8c538",
      "metadata": {
        "papermill": {
          "duration": 0.024622,
          "end_time": "2022-12-17T13:50:44.635183",
          "exception": false,
          "start_time": "2022-12-17T13:50:44.610561",
          "status": "completed"
        },
        "tags": [],
        "id": "92b8c538"
      },
      "source": [
        "### K Best Features"
      ]
    },
    {
      "cell_type": "code",
      "execution_count": 98,
      "id": "b9ab7507",
      "metadata": {
        "execution": {
          "iopub.execute_input": "2022-12-17T13:50:44.690211Z",
          "iopub.status.busy": "2022-12-17T13:50:44.686622Z",
          "iopub.status.idle": "2022-12-17T13:50:44.696696Z",
          "shell.execute_reply": "2022-12-17T13:50:44.695822Z"
        },
        "papermill": {
          "duration": 0.042212,
          "end_time": "2022-12-17T13:50:44.701648",
          "exception": false,
          "start_time": "2022-12-17T13:50:44.659436",
          "status": "completed"
        },
        "tags": [],
        "colab": {
          "base_uri": "https://localhost:8080/",
          "height": 53
        },
        "id": "b9ab7507",
        "outputId": "951d7541-2962-4998-de0c-b14250cff180"
      },
      "outputs": [
        {
          "output_type": "execute_result",
          "data": {
            "text/plain": [
              "\"\\nfrom sklearn.feature_selection import SelectKBest, f_classif\\n\\nselector = SelectKBest(f_classif, k=28)\\nselector.fit(X_train, y_train)\\n\\nselected_features = features[selector.get_support()]\\nprint('Selected features: ', selected_features)\\n\\nX_train = X_train[selected_features]\\nX_test  = X_test[selected_features]\\n\""
            ],
            "application/vnd.google.colaboratory.intrinsic+json": {
              "type": "string"
            }
          },
          "metadata": {},
          "execution_count": 98
        }
      ],
      "source": [
        "'''\n",
        "from sklearn.feature_selection import SelectKBest, f_classif\n",
        "\n",
        "selector = SelectKBest(f_classif, k=28)\n",
        "selector.fit(X_train, y_train)\n",
        "\n",
        "selected_features = features[selector.get_support()]\n",
        "print('Selected features: ', selected_features)\n",
        "\n",
        "X_train = X_train[selected_features]\n",
        "X_test  = X_test[selected_features]\n",
        "'''"
      ]
    },
    {
      "cell_type": "markdown",
      "id": "6e38a5fa",
      "metadata": {
        "papermill": {
          "duration": 0.023891,
          "end_time": "2022-12-17T13:50:44.752793",
          "exception": false,
          "start_time": "2022-12-17T13:50:44.728902",
          "status": "completed"
        },
        "tags": [],
        "id": "6e38a5fa"
      },
      "source": [
        "## Fit Chosen Model with Training Data"
      ]
    },
    {
      "cell_type": "code",
      "execution_count": 99,
      "id": "e9a97777",
      "metadata": {
        "execution": {
          "iopub.execute_input": "2022-12-17T13:50:44.805536Z",
          "iopub.status.busy": "2022-12-17T13:50:44.804799Z",
          "iopub.status.idle": "2022-12-17T13:50:46.649259Z",
          "shell.execute_reply": "2022-12-17T13:50:46.647999Z"
        },
        "papermill": {
          "duration": 1.874629,
          "end_time": "2022-12-17T13:50:46.651879",
          "exception": false,
          "start_time": "2022-12-17T13:50:44.777250",
          "status": "completed"
        },
        "tags": [],
        "colab": {
          "base_uri": "https://localhost:8080/"
        },
        "id": "e9a97777",
        "outputId": "c96bc20d-70c5-4430-8138-c6cae6496fc5"
      },
      "outputs": [
        {
          "output_type": "execute_result",
          "data": {
            "text/plain": [
              "RandomForestClassifier(criterion='entropy', max_samples=0.5,\n",
              "                       min_samples_split=10, n_estimators=300, n_jobs=-1,\n",
              "                       random_state=RandomState(MT19937) at 0x7F79E8FCAD40)"
            ]
          },
          "metadata": {},
          "execution_count": 99
        }
      ],
      "source": [
        "#clf = model_vote\n",
        "clf = clf_rf\n",
        "clf.fit(X_train, y_train)"
      ]
    },
    {
      "cell_type": "markdown",
      "id": "9c390ed7",
      "metadata": {
        "papermill": {
          "duration": 0.024892,
          "end_time": "2022-12-17T13:50:46.701898",
          "exception": false,
          "start_time": "2022-12-17T13:50:46.677006",
          "status": "completed"
        },
        "tags": [],
        "id": "9c390ed7"
      },
      "source": [
        "## Predict Test Label with Chosen Model"
      ]
    },
    {
      "cell_type": "code",
      "execution_count": 100,
      "id": "ce0111c3",
      "metadata": {
        "execution": {
          "iopub.execute_input": "2022-12-17T13:50:46.755015Z",
          "iopub.status.busy": "2022-12-17T13:50:46.754532Z",
          "iopub.status.idle": "2022-12-17T13:50:47.478014Z",
          "shell.execute_reply": "2022-12-17T13:50:47.476417Z"
        },
        "papermill": {
          "duration": 0.752803,
          "end_time": "2022-12-17T13:50:47.480980",
          "exception": false,
          "start_time": "2022-12-17T13:50:46.728177",
          "status": "completed"
        },
        "tags": [],
        "id": "ce0111c3"
      },
      "outputs": [],
      "source": [
        "y_pred = clf.predict(X_train)\n",
        "data_test_raw['Offer Accepted'] = clf.predict(X_test)\n",
        "data_test_raw['Offer Accepted'] = data_test_raw['Offer Accepted'].apply(lambda x: 'Yes' if x == 1 else 'No')"
      ]
    },
    {
      "cell_type": "markdown",
      "id": "33da51eb",
      "metadata": {
        "papermill": {
          "duration": 0.025626,
          "end_time": "2022-12-17T13:50:47.531453",
          "exception": false,
          "start_time": "2022-12-17T13:50:47.505827",
          "status": "completed"
        },
        "tags": [],
        "id": "33da51eb"
      },
      "source": [
        "## Visualize using a Confusion Matrix"
      ]
    },
    {
      "cell_type": "code",
      "execution_count": 101,
      "id": "28bc5bae",
      "metadata": {
        "execution": {
          "iopub.execute_input": "2022-12-17T13:50:47.583419Z",
          "iopub.status.busy": "2022-12-17T13:50:47.582978Z",
          "iopub.status.idle": "2022-12-17T13:50:48.233839Z",
          "shell.execute_reply": "2022-12-17T13:50:48.232156Z"
        },
        "papermill": {
          "duration": 0.680619,
          "end_time": "2022-12-17T13:50:48.236872",
          "exception": false,
          "start_time": "2022-12-17T13:50:47.556253",
          "status": "completed"
        },
        "tags": [],
        "colab": {
          "base_uri": "https://localhost:8080/",
          "height": 279
        },
        "id": "28bc5bae",
        "outputId": "820d16db-58fd-460b-ad9f-2be85331efe4"
      },
      "outputs": [
        {
          "output_type": "display_data",
          "data": {
            "text/plain": [
              "<Figure size 432x288 with 2 Axes>"
            ],
            "image/png": "[encoded data removed]"
          },
          "metadata": {
            "needs_background": "light"
          }
        }
      ],
      "source": [
        "from sklearn.metrics import ConfusionMatrixDisplay\n",
        "\n",
        "ConfusionMatrixDisplay.from_predictions(y_train, clf.predict(X_train), cmap=\"inferno\")\n",
        "plt.show()"
      ]
    },
    {
      "cell_type": "markdown",
      "id": "7cb18df5",
      "metadata": {
        "papermill": {
          "duration": 0.024597,
          "end_time": "2022-12-17T13:50:48.285973",
          "exception": false,
          "start_time": "2022-12-17T13:50:48.261376",
          "status": "completed"
        },
        "tags": [],
        "id": "7cb18df5"
      },
      "source": [
        "## Classification Report"
      ]
    },
    {
      "cell_type": "code",
      "execution_count": 102,
      "id": "70d82dff",
      "metadata": {
        "execution": {
          "iopub.execute_input": "2022-12-17T13:50:48.342001Z",
          "iopub.status.busy": "2022-12-17T13:50:48.340997Z",
          "iopub.status.idle": "2022-12-17T13:50:48.794967Z",
          "shell.execute_reply": "2022-12-17T13:50:48.788669Z"
        },
        "papermill": {
          "duration": 0.487416,
          "end_time": "2022-12-17T13:50:48.800040",
          "exception": false,
          "start_time": "2022-12-17T13:50:48.312624",
          "status": "completed"
        },
        "tags": [],
        "colab": {
          "base_uri": "https://localhost:8080/"
        },
        "id": "70d82dff",
        "outputId": "d6aae0bf-659b-41b9-d771-df1304a144ca"
      },
      "outputs": [
        {
          "output_type": "stream",
          "name": "stdout",
          "text": [
            "              precision    recall  f1-score   support\n",
            "\n",
            "           0       0.93      0.73      0.82      5374\n",
            "           1       0.82      0.96      0.89      6978\n",
            "\n",
            "    accuracy                           0.86     12352\n",
            "   macro avg       0.88      0.84      0.85     12352\n",
            "weighted avg       0.87      0.86      0.86     12352\n",
            "\n"
          ]
        }
      ],
      "source": [
        "from sklearn.metrics import classification_report\n",
        "print(classification_report(y_train, clf.predict(X_train)))"
      ]
    },
    {
      "cell_type": "code",
      "execution_count": 103,
      "id": "582c5178",
      "metadata": {
        "execution": {
          "iopub.execute_input": "2022-12-17T13:50:48.857729Z",
          "iopub.status.busy": "2022-12-17T13:50:48.857257Z",
          "iopub.status.idle": "2022-12-17T13:50:48.866854Z",
          "shell.execute_reply": "2022-12-17T13:50:48.864865Z"
        },
        "papermill": {
          "duration": 0.040758,
          "end_time": "2022-12-17T13:50:48.870233",
          "exception": false,
          "start_time": "2022-12-17T13:50:48.829475",
          "status": "completed"
        },
        "tags": [],
        "id": "582c5178"
      },
      "outputs": [],
      "source": [
        "data_test_raw['id'] = list(data_test_raw.index)"
      ]
    },
    {
      "cell_type": "code",
      "execution_count": 104,
      "id": "49b074af",
      "metadata": {
        "execution": {
          "iopub.execute_input": "2022-12-17T13:50:48.924034Z",
          "iopub.status.busy": "2022-12-17T13:50:48.923437Z",
          "iopub.status.idle": "2022-12-17T13:50:48.946311Z",
          "shell.execute_reply": "2022-12-17T13:50:48.944577Z"
        },
        "papermill": {
          "duration": 0.053197,
          "end_time": "2022-12-17T13:50:48.949363",
          "exception": false,
          "start_time": "2022-12-17T13:50:48.896166",
          "status": "completed"
        },
        "tags": [],
        "id": "49b074af"
      },
      "outputs": [],
      "source": [
        "data_test_raw[['id','Offer Accepted']].to_csv('Datasets/submission.csv', index=None)"
      ]
    }
  ],
  "metadata": {
    "kernelspec": {
      "display_name": "Python 3",
      "language": "python",
      "name": "python3"
    },
    "language_info": {
      "codemirror_mode": {
        "name": "ipython",
        "version": 3
      },
      "file_extension": ".py",
      "mimetype": "text/x-python",
      "name": "python",
      "nbconvert_exporter": "python",
      "pygments_lexer": "ipython3",
      "version": "3.7.12"
    },
    "papermill": {
      "default_parameters": {},
      "duration": 32.899087,
      "end_time": "2022-12-17T13:50:50.002907",
      "environment_variables": {},
      "exception": null,
      "input_path": "__notebook__.ipynb",
      "output_path": "__notebook__.ipynb",
      "parameters": {},
      "start_time": "2022-12-17T13:50:17.103820",
      "version": "2.3.4"
    },
    "colab": {
      "provenance": []
    }
  },
  "nbformat": 4,
  "nbformat_minor": 5
}